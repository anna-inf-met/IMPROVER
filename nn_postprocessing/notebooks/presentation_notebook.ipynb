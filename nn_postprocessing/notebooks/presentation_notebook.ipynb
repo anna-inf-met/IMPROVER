{
 "cells": [
  {
   "cell_type": "markdown",
   "metadata": {
    "toc": "true"
   },
   "source": [
    " # Table of Contents\n",
    "<div class=\"toc\" style=\"margin-top: 1em;\"><ul class=\"toc-item\" id=\"toc-level0\"><li><span><a href=\"http://localhost:8888/notebooks/presentation_notebook.ipynb#A-simple-neural-network-in-Numpy\" data-toc-modified-id=\"A-simple-neural-network-in-Numpy-1\"><span class=\"toc-item-num\">1&nbsp;&nbsp;</span>A simple neural network in Numpy</a></span><ul class=\"toc-item\"><li><span><a href=\"http://localhost:8888/notebooks/presentation_notebook.ipynb#Define-backpropagation-in-numpy\" data-toc-modified-id=\"Define-backpropagation-in-numpy-1.1\"><span class=\"toc-item-num\">1.1&nbsp;&nbsp;</span>Define backpropagation in numpy</a></span></li><li><span><a href=\"http://localhost:8888/notebooks/presentation_notebook.ipynb#Train-the-network\" data-toc-modified-id=\"Train-the-network-1.2\"><span class=\"toc-item-num\">1.2&nbsp;&nbsp;</span>Train the network</a></span></li><li><span><a href=\"http://localhost:8888/notebooks/presentation_notebook.ipynb#Building-a-neural-network-in-Keras\" data-toc-modified-id=\"Building-a-neural-network-in-Keras-1.3\"><span class=\"toc-item-num\">1.3&nbsp;&nbsp;</span>Building a neural network in Keras</a></span></li></ul></li><li><span><a href=\"http://localhost:8888/notebooks/presentation_notebook.ipynb#Post-processing:-The-data\" data-toc-modified-id=\"Post-processing:-The-data-2\"><span class=\"toc-item-num\">2&nbsp;&nbsp;</span>Post-processing: The data</a></span></li><li><span><a href=\"http://localhost:8888/notebooks/presentation_notebook.ipynb#Simple-postprocessing\" data-toc-modified-id=\"Simple-postprocessing-3\"><span class=\"toc-item-num\">3&nbsp;&nbsp;</span>Simple postprocessing</a></span><ul class=\"toc-item\"><li><span><a href=\"http://localhost:8888/notebooks/presentation_notebook.ipynb#Add-station-information-with-embeddings\" data-toc-modified-id=\"Add-station-information-with-embeddings-3.1\"><span class=\"toc-item-num\">3.1&nbsp;&nbsp;</span>Add station information with embeddings</a></span></li><li><span><a href=\"http://localhost:8888/notebooks/presentation_notebook.ipynb#What-about-a-neural-network?\" data-toc-modified-id=\"What-about-a-neural-network?-3.2\"><span class=\"toc-item-num\">3.2&nbsp;&nbsp;</span>What about a neural network?</a></span></li></ul></li><li><span><a href=\"http://localhost:8888/notebooks/presentation_notebook.ipynb#Adding-more-variables\" data-toc-modified-id=\"Adding-more-variables-4\"><span class=\"toc-item-num\">4&nbsp;&nbsp;</span>Adding more variables</a></span><ul class=\"toc-item\"><li><span><a href=\"http://localhost:8888/notebooks/presentation_notebook.ipynb#Simple-linear-net-with-auxiliary-variables\" data-toc-modified-id=\"Simple-linear-net-with-auxiliary-variables-4.1\"><span class=\"toc-item-num\">4.1&nbsp;&nbsp;</span>Simple linear net with auxiliary variables</a></span></li><li><span><a href=\"http://localhost:8888/notebooks/presentation_notebook.ipynb#Auxiliary-variables-with-station-embeddings\" data-toc-modified-id=\"Auxiliary-variables-with-station-embeddings-4.2\"><span class=\"toc-item-num\">4.2&nbsp;&nbsp;</span>Auxiliary variables with station embeddings</a></span></li><li><span><a href=\"http://localhost:8888/notebooks/presentation_notebook.ipynb#Neural-network\" data-toc-modified-id=\"Neural-network-4.3\"><span class=\"toc-item-num\">4.3&nbsp;&nbsp;</span>Neural network</a></span></li><li><span><a href=\"http://localhost:8888/notebooks/presentation_notebook.ipynb#A-more-complex-neural-network\" data-toc-modified-id=\"A-more-complex-neural-network-4.4\"><span class=\"toc-item-num\">4.4&nbsp;&nbsp;</span>A more complex neural network</a></span></li><li><span><a href=\"http://localhost:8888/notebooks/presentation_notebook.ipynb#Hmmm,-weird...\" data-toc-modified-id=\"Hmmm,-weird...-4.5\"><span class=\"toc-item-num\">4.5&nbsp;&nbsp;</span>Hmmm, weird...</a></span></li></ul></li><li><span><a href=\"http://localhost:8888/notebooks/presentation_notebook.ipynb#A-longer-training-period\" data-toc-modified-id=\"A-longer-training-period-5\"><span class=\"toc-item-num\">5&nbsp;&nbsp;</span>A longer training period</a></span></li><li><span><a href=\"http://localhost:8888/notebooks/presentation_notebook.ipynb#Conclusion\" data-toc-modified-id=\"Conclusion-6\"><span class=\"toc-item-num\">6&nbsp;&nbsp;</span>Conclusion</a></span></li></ul></div>"
   ]
  },
  {
   "cell_type": "markdown",
   "metadata": {},
   "source": [
    "# Neural networks for post-processing NWP forecasts"
   ]
  },
  {
   "cell_type": "code",
   "execution_count": 100,
   "metadata": {},
   "outputs": [
    {
     "name": "stdout",
     "output_type": "stream",
     "text": [
      "Anaconda environment: py36_keras\n",
      "Darwin 17.3.0\n"
     ]
    }
   ],
   "source": [
    "# Imports \n",
    "import numpy as np\n",
    "import sys\n",
    "sys.path.append('../')   # This is where all the python files are!\n",
    "from importlib import reload\n",
    "import utils; reload(utils)\n",
    "from utils import *\n",
    "import keras_models; reload(keras_models)\n",
    "from keras_models import *\n",
    "from losses import crps_cost_function\n",
    "from scipy.stats import norm\n",
    "import matplotlib.pyplot as plt\n",
    "%matplotlib inline\n",
    "from matplotlib import animation\n",
    "import seaborn as sns\n",
    "sns.set_style('dark')\n",
    "sns.set_context('poster')\n",
    "from tqdm import tqdm_notebook as tqdm\n",
    "from collections import OrderedDict\n",
    "from IPython.display import HTML\n",
    "import time\n",
    "from keras.utils.generic_utils import get_custom_objects\n",
    "metrics_dict = dict([(f.__name__, f) for f in [crps_cost_function]])\n",
    "get_custom_objects().update(metrics_dict)"
   ]
  },
  {
   "cell_type": "code",
   "execution_count": 101,
   "metadata": {
    "collapsed": true
   },
   "outputs": [],
   "source": [
    "# Basic setup\n",
    "DATA_DIR = '/Volumes/STICK/data/ppnn_data/'  # Mac\n",
    "# DATA_DIR = '/project/meteo/w2w/C7/ppnn_data/'   # LMU"
   ]
  },
  {
   "cell_type": "markdown",
   "metadata": {},
   "source": [
    "## A simple neural network in Numpy\n",
    "\n",
    "So what is a neural network anyway. Let's start by looking at a picture.\n",
    "\n",
    "![Neural network](general_nn.png)\n",
    "\n",
    "A neural network consists of several layers of interconnected nodes. Each node represents a weighted sum of all the nodes in the previous layers plus a bias.\n",
    "\n",
    "$$\\sum_j w_j x_j + b$$\n",
    "\n",
    "Additionally, each hidden layer is modified by a non-linear function $g(z)$. One very simple and popular activation function is called ReLU:\n",
    "\n",
    "$$\\mathrm{relu}(z) = \\mathrm{max}(0, z)$$\n",
    "\n",
    "Let's build a simplified network with one input and one output in pure Numpy."
   ]
  },
  {
   "cell_type": "code",
   "execution_count": 102,
   "metadata": {},
   "outputs": [
    {
     "data": {
      "text/plain": [
       "(50, 1)"
      ]
     },
     "execution_count": 102,
     "metadata": {},
     "output_type": "execute_result"
    },
    {
     "data": {
      "image/png": "[encoded data removed]",
      "text/plain": [
       "<matplotlib.figure.Figure at 0x123f6cd30>"
      ]
     },
     "metadata": {},
     "output_type": "display_data"
    }
   ],
   "source": [
    "# Create the data\n",
    "n_samples = 50\n",
    "x = np.expand_dims(np.random.uniform(0, 1, n_samples), -1)\n",
    "y = np.sin(2 * x) + 0.5 * np.sin(15 * x)\n",
    "plt.scatter(x, y);\n",
    "x.shape"
   ]
  },
  {
   "cell_type": "code",
   "execution_count": 103,
   "metadata": {},
   "outputs": [
    {
     "data": {
      "text/plain": [
       "((1, 200), (200,))"
      ]
     },
     "execution_count": 103,
     "metadata": {},
     "output_type": "execute_result"
    }
   ],
   "source": [
    "# Initialize the weights and biases for the input --> hidden layer step\n",
    "n_hidden = 200   # Number of nodes in hidden layer\n",
    "w1 = np.random.normal(size=(1, n_hidden))   # a matrix\n",
    "b1 = np.random.normal(size=n_hidden)        # a vector\n",
    "w1.shape, b1.shape"
   ]
  },
  {
   "cell_type": "code",
   "execution_count": 104,
   "metadata": {},
   "outputs": [
    {
     "data": {
      "text/plain": [
       "(50, 200)"
      ]
     },
     "execution_count": 104,
     "metadata": {},
     "output_type": "execute_result"
    }
   ],
   "source": [
    "# Do the first step \n",
    "hidden = np.dot(x, w1) + b1\n",
    "hidden.shape"
   ]
  },
  {
   "cell_type": "code",
   "execution_count": 105,
   "metadata": {
    "collapsed": true
   },
   "outputs": [],
   "source": [
    "# Here comes the non-linearity\n",
    "def relu(z):\n",
    "    return np.maximum(0, z)"
   ]
  },
  {
   "cell_type": "code",
   "execution_count": 106,
   "metadata": {
    "collapsed": true
   },
   "outputs": [],
   "source": [
    "hidden = relu(hidden)"
   ]
  },
  {
   "cell_type": "code",
   "execution_count": 107,
   "metadata": {},
   "outputs": [
    {
     "data": {
      "text/plain": [
       "((200, 1), (1,))"
      ]
     },
     "execution_count": 107,
     "metadata": {},
     "output_type": "execute_result"
    }
   ],
   "source": [
    "# Now the weights and biases for the hidden --> output step\n",
    "w2 = np.random.normal(size=(n_hidden, 1))\n",
    "b2 = np.random.normal(size=1)\n",
    "w2.shape, b2.shape"
   ]
  },
  {
   "cell_type": "code",
   "execution_count": 108,
   "metadata": {},
   "outputs": [
    {
     "data": {
      "text/plain": [
       "(50, 1)"
      ]
     },
     "execution_count": 108,
     "metadata": {},
     "output_type": "execute_result"
    }
   ],
   "source": [
    "# Now the second step\n",
    "preds = np.dot(hidden, w2) + b2\n",
    "preds.shape"
   ]
  },
  {
   "cell_type": "code",
   "execution_count": 109,
   "metadata": {},
   "outputs": [
    {
     "data": {
      "image/png": "[encoded data removed]",
      "text/plain": [
       "<matplotlib.figure.Figure at 0x12cb7bf60>"
      ]
     },
     "metadata": {},
     "output_type": "display_data"
    }
   ],
   "source": [
    "plt.scatter(x, y);\n",
    "plt.scatter(x, preds);"
   ]
  },
  {
   "cell_type": "markdown",
   "metadata": {},
   "source": [
    "Now this is of course just some random garbage. The goal of the optimization algorithm is to change the weights and biases to get the output closer to the target. Mathematically, we are minimizing a loss function, for example the mean squared error.\n",
    "\n",
    "$$L = \\frac{1}{N_\\mathrm{{samples}}} \\sum_{i=1}^{N_\\mathrm{{samples}}} (\\mathrm{output} - \\mathrm{target})^2$$\n",
    "\n",
    "To minimize this loss we are using stochastic gradient descent. For this we need to compute the gradient of the loss with respect to all weights and biases. Basically, this mean using the chain rule of calculus. The algorithm to do this efficiently is called backpropagation."
   ]
  },
  {
   "cell_type": "code",
   "execution_count": 110,
   "metadata": {
    "collapsed": true
   },
   "outputs": [],
   "source": [
    "def mse(predictions, targets):\n",
    "    return np.mean((predictions - targets) ** 2)"
   ]
  },
  {
   "cell_type": "code",
   "execution_count": 111,
   "metadata": {},
   "outputs": [
    {
     "data": {
      "text/plain": [
       "359.79150444942877"
      ]
     },
     "execution_count": 111,
     "metadata": {},
     "output_type": "execute_result"
    }
   ],
   "source": [
    "mse(preds, y)"
   ]
  },
  {
   "cell_type": "markdown",
   "metadata": {
    "heading_collapsed": true
   },
   "source": [
    "### Define backpropagation in numpy"
   ]
  },
  {
   "cell_type": "code",
   "execution_count": 112,
   "metadata": {
    "collapsed": true,
    "hidden": true
   },
   "outputs": [],
   "source": [
    "# Some helper function to reset the weights\n",
    "def init_weights(n_hidden):\n",
    "    w1 = np.random.normal(size=(1, n_hidden))   # a matrix\n",
    "    b1 = np.random.normal(size=n_hidden)        # a vector\n",
    "    w2 = np.random.normal(size=(n_hidden, 1))\n",
    "    b2 = np.random.normal(size=1)\n",
    "    return [w1, w2], [b1, b2]"
   ]
  },
  {
   "cell_type": "code",
   "execution_count": 113,
   "metadata": {
    "collapsed": true,
    "hidden": true
   },
   "outputs": [],
   "source": [
    "# First define the forward pass.\n",
    "def forward_pass(x, weights, biases):\n",
    "    hidden = relu(np.dot(x, weights[0]) + biases[0])\n",
    "    return np.dot(hidden, weights[1]) + biases[1]"
   ]
  },
  {
   "cell_type": "code",
   "execution_count": 114,
   "metadata": {
    "collapsed": true,
    "hidden": true
   },
   "outputs": [],
   "source": [
    "# Define the derivative of the loss function and the activation function\n",
    "def dmse(predictions, targets):\n",
    "    return predictions - targets\n",
    "def drelu(z):\n",
    "    return 1. * (z > 0)"
   ]
  },
  {
   "cell_type": "code",
   "execution_count": 115,
   "metadata": {
    "collapsed": true,
    "hidden": true
   },
   "outputs": [],
   "source": [
    "def backprop_and_update(x, y, weights, biases, lr=1e-5):\n",
    "    # Compute the predictions\n",
    "    hidden = relu(np.dot(x, weights[0]) + biases[0])\n",
    "    preds = np.dot(hidden, weights[1]) + biases[1]\n",
    "    \n",
    "    # Compute the loss\n",
    "    loss = mse(preds, y)\n",
    "    \n",
    "    # Compute Ds\n",
    "    delta2 = dmse(preds, y)\n",
    "    dw2 = np.dot(hidden.T, delta2)\n",
    "    db2 = np.sum(delta2, axis=0)\n",
    "    delta1 = np.dot(delta2, weights[1].T)  * drelu(hidden)\n",
    "    dw1 = np.dot(x.T, delta1)\n",
    "    db1 = np.sum(delta1, axis=0)\n",
    "    \n",
    "    # Update parameters\n",
    "    weights[0] -= lr * dw1\n",
    "    biases[0] -= lr * db1\n",
    "    weights[1] -= lr * dw2\n",
    "    biases[1] -= lr * db2\n",
    "    \n",
    "    return loss"
   ]
  },
  {
   "cell_type": "markdown",
   "metadata": {},
   "source": [
    "### Train the network"
   ]
  },
  {
   "cell_type": "code",
   "execution_count": 118,
   "metadata": {},
   "outputs": [
    {
     "name": "stdout",
     "output_type": "stream",
     "text": [
      "\r",
      "          \r",
      "17964/|/ 36%|| 17964/50000 [00:20<00:14, 2256.92it/s, loss=0.00689]"
     ]
    }
   ],
   "source": [
    "weights, biases = init_weights(n_hidden)"
   ]
  },
  {
   "cell_type": "code",
   "execution_count": 119,
   "metadata": {},
   "outputs": [
    {
     "data": {
      "application/vnd.jupyter.widget-view+json": {
       "model_id": "3fd2e25b65f8490f832705bc4757feb8",
       "version_major": 2,
       "version_minor": 0
      },
      "text/html": [
       "<p>Failed to display Jupyter Widget of type <code>HBox</code>.</p>\n",
       "<p>\n",
       "  If you're reading this message in the Jupyter Notebook or JupyterLab Notebook, it may mean\n",
       "  that the widgets JavaScript is still loading. If this message persists, it\n",
       "  likely means that the widgets JavaScript library is either not installed or\n",
       "  not enabled. See the <a href=\"https://ipywidgets.readthedocs.io/en/stable/user_install.html\">Jupyter\n",
       "  Widgets Documentation</a> for setup instructions.\n",
       "</p>\n",
       "<p>\n",
       "  If you're reading this message in another frontend (for example, a static\n",
       "  rendering on GitHub or <a href=\"https://nbviewer.jupyter.org/\">NBViewer</a>),\n",
       "  it may mean that your frontend doesn't currently support widgets.\n",
       "</p>\n"
      ],
      "text/plain": [
       "HBox(children=(IntProgress(value=0, max=50000), HTML(value='')))"
      ]
     },
     "metadata": {},
     "output_type": "display_data"
    },
    {
     "name": "stdout",
     "output_type": "stream",
     "text": [
      "\n",
      "\n"
     ]
    }
   ],
   "source": [
    "n_steps = 50000\n",
    "saved_preds = []\n",
    "pbar = tqdm(total=n_steps)\n",
    "for i in range(n_steps):\n",
    "    loss = backprop_and_update(x, y, weights, biases, lr=1e-4)\n",
    "    pbar.update(1)\n",
    "    pbar.set_postfix(OrderedDict({'loss': loss}))\n",
    "    if i % 500 == 0:\n",
    "        saved_preds.append(forward_pass(x, weights, biases))\n",
    "pbar.close()"
   ]
  },
  {
   "cell_type": "code",
   "execution_count": 120,
   "metadata": {},
   "outputs": [
    {
     "data": {
      "text/plain": [
       "(100, 50, 1)"
      ]
     },
     "execution_count": 120,
     "metadata": {},
     "output_type": "execute_result"
    }
   ],
   "source": [
    "saved_preds = np.array(saved_preds)\n",
    "saved_preds.shape"
   ]
  },
  {
   "cell_type": "code",
   "execution_count": 121,
   "metadata": {
    "collapsed": true
   },
   "outputs": [],
   "source": [
    "fig, ax = plt.subplots()\n",
    "ax.scatter(x, y)\n",
    "s = ax.scatter(x[:, 0], saved_preds[0, :, 0])\n",
    "ax.set_ylim(0, 2)\n",
    "def animate(i):\n",
    "    y_i = saved_preds[i, :, 0]\n",
    "    s.set_offsets(np.array([x[:, 0], y_i]).T)\n",
    "plt.close();"
   ]
  },
  {
   "cell_type": "code",
   "execution_count": 122,
   "metadata": {
    "collapsed": true
   },
   "outputs": [],
   "source": [
    "ani = animation.FuncAnimation(fig, animate, np.arange(saved_preds.shape[0]),\n",
    "                              interval=100)"
   ]
  },
  {
   "cell_type": "code",
   "execution_count": 123,
   "metadata": {},
   "outputs": [
    {
     "data": {
      "text/html": [
       "<video width=\"432\" height=\"288\" controls autoplay loop>\n",
       "  <source type=\"video/mp4\" src=\"data:video/mp4;base64,AAAAHGZ0eXBNNFYgAAACAGlzb21pc28yYXZjMQAAAAhmcmVlAACEFW1kYXQAAAKgBgX//5zcRem9\n",
       "5tlIt5Ys2CDZI+7veDI2NCAtIGNvcmUgMTM4IC0gSC4yNjQvTVBFRy00IEFWQyBjb2RlYyAtIENv\n",
       "cHlsZWZ0IDIwMDMtMjAxMyAtIGh0dHA6Ly93d3cudmlkZW9sYW4ub3JnL3gyNjQuaHRtbCAtIG9w\n",
       "dGlvbnM6IGNhYmFjPTEgcmVmPTMgZGVibG9jaz0xOjA6MCBhbmFseXNlPTB4MzoweDExMyBtZT1o\n",
       "ZXggc3VibWU9NyBwc3k9MSBwc3lfcmQ9MS4wMDowLjAwIG1peGVkX3JlZj0xIG1lX3JhbmdlPTE2\n",
       "IGNocm9tYV9tZT0xIHRyZWxsaXM9MSA4eDhkY3Q9MSBjcW09MCBkZWFkem9uZT0yMSwxMSBmYXN0\n",
       "X3Bza2lwPTEgY2hyb21hX3FwX29mZnNldD0tMiB0aHJlYWRzPTYgbG9va2FoZWFkX3RocmVhZHM9\n",
       "MSBzbGljZWRfdGhyZWFkcz0wIG5yPTAgZGVjaW1hdGU9MSBpbnRlcmxhY2VkPTAgYmx1cmF5X2Nv\n",
       "bXBhdD0wIGNvbnN0cmFpbmVkX2ludHJhPTAgYmZyYW1lcz0zIGJfcHlyYW1pZD0yIGJfYWRhcHQ9\n",
       "MSBiX2JpYXM9MCBkaXJlY3Q9MSB3ZWlnaHRiPTEgb3Blbl9nb3A9MCB3ZWlnaHRwPTIga2V5aW50\n",
       "PTI1MCBrZXlpbnRfbWluPTEwIHNjZW5lY3V0PTQwIGludHJhX3JlZnJlc2g9MCByY19sb29rYWhl\n",
       "YWQ9NDAgcmM9Y3JmIG1idHJlZT0xIGNyZj0yMy4wIHFjb21wPTAuNjAgcXBtaW49MCBxcG1heD02\n",
       "OSBxcHN0ZXA9NCBpcF9yYXRpbz0xLjQwIGFxPTE6MS4wMACAAAAZtWWIhAAR//73iB8yy2n5Otdy\n",
       "EeetLq0fUO5GcV6kvf4gAAADABa/7/CHc7MBRdA4IFh6ORYf3ChEs4WTiUb6HAvt5ACoktRT/36H\n",
       "iyvfxFw0Rpb24zLCIXQGIUlsGHbL07C4lK3mMZ6GpykxYPTOVyUOu2+X9X5J0U35D/JKxBqCvb+K\n",
       "VyQAAAZI4ySXpC49czCQ6ExFbtwjLCtCt1AKfPyWMRtbQNdE+S2o9RldH1/U7z+Bp5OMlyO5lkgM\n",
       "phwRQvJCzhuw4XDScaeAQNHtNFtpcHFCJDBnkIlUArRaGOmW7SwHSATkesFbxL1VkLZ3+OosseL1\n",
       "y0is2od4nOzb/JnWqpmZ1VYUkMl3Id2+L3OyEdVPjxDh46SlmIsX7eFtLZ72ZHA9cH8jKbRtNm9q\n",
       "szgAAKSANQvh8aX5PS/mgdEhoTUGWelU3pZJcK6m/oggWvqsg1c3/8N6JsykQABCws0Pf7P4TN9m\n",
       "yM6HMuxjuDFembVPJQn95FYLGMGmy3DafOMbrZdq272+gQO81q6zoOyfX0wLsCO4sGwQH7Lu9VwA\n",
       "Zfj/qDxg+PuD+EybFAIfGqjSVMsFuGpu/XUfJr/xMaZaekXEIG1yudD7hsMdyG4g1UrYXyK+Gym8\n",
       "BFy9ou/6DncBOtinoldstM0CRUS6JpO7n03Xebw9JnMiAN0+Xd6DS2q82yaTIU/0zYttAuEfR5ER\n",
       "w4lKsTCTCJ5x2r8X3xUI3pgGKyi4qnFeE/zZ00M6UEp6fwz/FbfIR1OaShNdvuWiBf9TMS1GvhI2\n",
       "BTht8KKfVx9HJpn6bBWjDgVqbp3TD8RUFpbzxqxpQJ4LOJnXazu1Qec7x6DoCBoaNuiUlMiNQtC4\n",
       "OZBnJcgfQTcLCaVbHeUsyfG5kHEHutUFxCJwctGrSFwAAK/R7SSrhz84ryNPXqUXrwefXN1U6zjA\n",
       "dPrwGwcn3kNM67DTPVSPTw4elYqye2M/dsPUMT6l3eCRTb+pzmyVOEEkITbpHMOgRDrv1BJFVDbS\n",
       "E+U4SOyWmqedAIlo6ovRMSU2U5IeAbNX3t5MZIKe5RfTbg6ATW483kd8G8e2N0198hXZ7YcOXWpK\n",
       "31cZNf3jIN0G92H4AZBjzlab6pIJ7FUzUDYiq5pzKG0hbB58+Wl4gW4qYuJk+bjhjXAEBEfgiBjZ\n",
       "TMCiDImyZdX1b7e6fNRJNknVj5Q1Uk9GQ7zOBv3ZE75tbMuj0VhBAQdPgHM1c3SCeB52e2AglSci\n",
       "vY/eS8CDR7AtnButCrG7MLp6Euzr336RwmpjL3UMwZGmIjCTO6Uh59+RCYry5dxoyfJDbyXsTQeM\n",
       "xwnwJWita+qZLP5kWvd79LXPlcHFabd0a/qXjEuKiILgMLPsncrtEAphZcaYM+rGKcO9kaYYrXQJ\n",
       "9AjOfdMq53VT/k/6LV1xv9ERmWhKfK0Ceix7XVQSBhWJrONT0WzqYYW8yH1mhvqqeqNzC9BkoBkt\n",
       "h7s5HqhfUHrZMfVtJKJfXJk7ahYu12JdvY2p4jCSNQmW+hZTq/VRL97bfmmAjDZjiTe8geKT4+uM\n",
       "GsA6TsOrNPfomU8ROI41IJBMVl9CzfzycDOeFjZ3e+5bXRRTU4duVn/SLopMLQXsORDuv8EHuyX6\n",
       "I1Ui0NKvMfFKGPVQfppVP5wqLhRCHaKOKlL7QHghWep0ks9GVIj2yoiFUWDxFVVdM1rgZTALO7In\n",
       "6ubPioP/rEr4FDZUQoBocooyOiFKUKpWljt4gjHJeG8bmAlpBMNAEvNm3oPyg7LveuEYQNf+V7gQ\n",
       "N+0uOfq4WcUEQfcnvSN+fz3D3Z7kRfGIvsbW9zFhekdc+/q/BEtwP9At7Za6QOnAF+cUOr1lrqiR\n",
       "9f4VKG3zPa3OCOChjvX8AFJaNkv2RPiIFNKkIVbGr0fmact7Uf5qx2kib5dyqZIpdlgTOqw3gRtO\n",
       "tUexg053vwDVO/o3HvcM64m9EswvJfZPRQyPKOZkL3wSpd8bsPNryAId8b6NpkhTRxaE2Wg9+Tt1\n",
       "I5OHFc9FUBPFaX71Zujy2j2OiD4U2iEDmoSXTvgYmwrdqnVpExeXBO/CJoygN7Y1+U6jVZ1G+bGg\n",
       "UA821Ll+WSHamchdETGQQSNfoaMw/SC3bIAQpOmEzhO4ojeU1vPEBG9UyboVbS3MregsJoYg1ME9\n",
       "INPoaykmaIz5yIhFlsZu1a4lf77mJUlwlBjTGZYrfAVCBXiI07ro19eMJVGzHOqSYrnnYv72ak00\n",
       "UvWclq2Ucn0ggKc4Kec9qHq2V/57TEc9qsO0ZUgMntMsBWj5qMebEMhrxLtp7DSmvVLNPFKXBCYg\n",
       "Cw5TW6lgKw1QzbyF6fbIpwefvqGi7SLgpilp5Fq/UTOGow/u8gtNWkVWNC6wi8/mV3YwAXByloHa\n",
       "GwnznrID5oebOdVW+u2wHe3bkF0GV5rznDqPRh8/E1ygG8PKvCZOhLmUBSLxLvTAG4f+9S+u0vLd\n",
       "RfsmKloh+Gz2AVj7dRMbON5a757TxHmhrtCofzvqXYh66IF2rUoNqbbqR/1PQkCahegQ1dNhocHL\n",
       "q2e7r9aTZs7YpoB6F6GeIGm6QzUbv7BQt2eYRF/vWm8syw9w9rq3Tu3oDBvgWpzeGkLtskrGKZEX\n",
       "4mAu5q2xgEi2diYL1k7LOu7KWpaqUmO3JsquVq1WzVS0NCMb+0TWVrPLy7N70qgXIRTv0irog+KW\n",
       "k4mp55EZy8YFr7/Iql1ZJzD9XLh98P3ZDGmRNXq/30BUC5mwn3c1sNdU5oAAuZnI79pp6cDLCJWT\n",
       "2F1IGLVdcQMkL6ORKIBEgpkF052Q3HBXJXC1WeZoUQ0YeaxdkEwFYlyF8dObie+jWxDZoHl2SHTx\n",
       "w/rAZGaxHMVTBrgrhi63B5O5uel97HIC1HXZs0IGBw870AAhoAPEn/knTvwdRRe4AGJSslMSwHwl\n",
       "KHj0N1nwfWGO7Qrc5sem1j9kdIbH0OvWwmNs3SltrxNZ2soo5Wesl2QGIUgNpYib05zsbQen1pFh\n",
       "yL6dWkxJltqwF0/c9DMIMEU2KqOM+mY17D8ALfLdOe68KVvfqFukhk+IKsQ8RPKhRQtw4aFkJe/E\n",
       "TXH0DEPSZ012V9sIoMSGQcWaf0V6zBnK0GGX/gqURmRWMAxoX3OSYdwt/rhPnJhwI6ZnGK1i5533\n",
       "Gfus2dsyd/EzT7NKZbJHnVhTn9RTNGBwXTGFv8DYGZYUJKPSMVtuWELaz9l4687V3b4N6n3YVoP5\n",
       "7m3wNBqRHU0lbxp8AHUx5hT0OzVHDI8QZJu4Zrt7FPBe+Doz9Ni1I9+DjDu5Xag1iy9uAXzGmzjB\n",
       "/Jel4SjHHkq5zV8CkCOXXFczXlS9QKrzZNgVv12FiRZ4IA4FQD7G44UE4XTchW36mPvpaphcQRoH\n",
       "YZmxyI+m5Vk+KUldaNkf5Ou5o9fK23KqdkyAuH8ryTWzpT8OSPKPeaRCBw+/YFtZnR1VBiEijLFa\n",
       "ft/GwW1kyyvPIdjL3iwCuVWN8H3+xnE85dbVvlkH6/2yfcRjBdUmsB3MN3WCJqGqL+rCd4/0sD10\n",
       "RCJ3GuR/U2fTCnlctM3LYjy8//t/bfmy3Wqhv1CfDcs4tC85U7tyhfGHMmM7TemjXzw4ScGf5aFg\n",
       "eV7w+vuXDdDdJmXVpALN3IsBdHYh0R1FzQfmC9DF091CJ3/bjAA9usxLGKBxLuyrpU71oXJHWRta\n",
       "mMYQaurbUrJJImj4yo7yMOaNV7S0WHI5le0gXQGXd21nCGXj/mNT54gx7aLOlWP5yHZVNhe5RF5k\n",
       "xELT/HPv0hUF24BVfiBEnF15Cp1V4+UAKunG6IG2fr38pfAu7QZTYJCzVoir4fPQfv/RjGw+wYE3\n",
       "7ZsDIw6YA/LMAo18WGgWtKd5ZDnaMt4QcpPk+qwQWTRqhhaCzGrrTnk5/1H0tChH+SUZMerZq2ye\n",
       "7OpWFXJdr66cx49+GAwFjxAvXTR63LXsaLO0GixorVSigiwJOlfGz98X+9SWq1ka/1PlBhGptTT2\n",
       "FMyFTi8ePaswbT60J/z7tj7dgzyrdahw9BFsm3VsjvX90jexhzOdA+gHdCirohBqBkaiVW9O8poj\n",
       "FMvB1n+qcmvw6RZhMjys1drRl/1UBgCgiNyxyM26KDIakjZnWQ8uw33/Dqzg+2qvYbBJDYkEsOgi\n",
       "ryYBBh9RXBs7OMCgfIk//AhvAq/718qwGP0+lqSFaKyJgYN5f9bKq6VKKF9foiF9wCyiQCqhGsBu\n",
       "BjKIj+Y42KWqkSivgCvQ53zzvNogPpNLcF0f+LLRCpj+N6oRncVdzHGRd6Ai5PjklCAdaVzPaxVx\n",
       "qer2yV8dIfTsB7e+yziaIC9ATnG6F2JYSKRFyyS0JT6dFrIhpPMFpa0tnnBCvfYJXhvl70T3U6se\n",
       "y4ZsLhMaDBMG3q3uK0wjkOrucLY8Y+FwXvxD3ez+lJ436qi/fbf8K8YeW7oD9pcxDA5YqlyjmP+E\n",
       "/wu7+qPUbpmct/wZZFQJrPZg4HfNXLnD85XGpPB9axlRCzX4ojcbyEbv/GaQQKN/MgDxHrw52by/\n",
       "bnhVPJUiIc7NI8YnV15q6p0mzpAilFkKQBULV6qbAatUpk51K3DPmpsE2Z4JjUn92S4MyVvLWIdz\n",
       "cpPPaVkFskToB/0MQGwTYRWJIkbVaZO5Ma+NmjmAVdUlg2EpnzCATAjdWunHgAH7P5H5TSVNEcbY\n",
       "39n6sv/gIj+mkWA/WDyy8aW1YNi9UeVakp6g9EEiJwm+hMFcW1w4EVbK8Q7batKOq9E02B5dUH1M\n",
       "GU3c5B5yp7M+ubd6eY/1krihNx3++fCdYHBrUTievXhhyobrxneGZz2tnbI2104KHXLnr0G21QFT\n",
       "mIHL6eZJWas99KSzfaUnlqInOu+qVzE/S8Fk1CipZUof8dw4QX5qeXz/qnj9tkCJFocvP68ODQT8\n",
       "iXfdAaSmW3sDf1C8He+rlsBZIdiEqkuzn8ReM+TobNQQNkMC5jWRKtugSuXGSWfmrAa8g6lt8RDM\n",
       "JO0sLkKtkeGY9cnGOPnaH0uOxPSSMIPJ3/QMzHo6EOZCUc0vTxNtEDViyxs9NiyNj+rf5XEX+wCy\n",
       "0KO4tNF1Hga+RgvX7BqgHeQZYFus+6VVZFQTU1y2oGn5ltIQxyqX6ho5BBGJ9hrm13wYxozDpks1\n",
       "bVvQ2fvt731WkM6f3cpV/mrPlbempoCfO8HNd+1L/t1dX0u8oR5Ni8X/PiRj8UUNAKLhe/kWnIaj\n",
       "/wynF/e9rCdOjHdgw8xGLZJeWD7sHbVCkZ7yT4lJwSAafMkztgr8iemPyUKhkw8p26Fw4dGCnmcV\n",
       "8tluvYlHytbfXMI1dHJ21kVvQexafYxh3NNhBLJt3dwbuWDSuzvgeU+b3beHvp1X5A4hJyFqKJXR\n",
       "MaLqxCC2O0xXRlbUZ8FS9zmyRUxL13hghESR6NcSsg6+DCtkiK3bFVVzWQlpMLCT5AEVBk1Kv7Ck\n",
       "VvlO9tYstM++VFkwMxL8vo06tEuyNIMSfqHhkA07+n1To8V5DTQNc5/lCxTxYaBuGwx0OcsqxpYp\n",
       "nwjoVFWfORtk0V5auE3IGeUohOHwtm8ui/76zVUgbWcNn/6+9u1i94PGT8sS7OVHl9H93rfzsnsk\n",
       "xs3NrMMDYWk0D5k4fE+PNAtRo2kXS7GjtnHiwtpYVqe2GBOzxqIbX110nv135vTeq8Nqw5MFc4ZO\n",
       "hFu2TCQdY5l3/nOzeCBH3TOo/X9r8Q90f/KaFrdxAhOuzqbhXBkerti46v67yIXFQyxpxJ7vt1yy\n",
       "RFdN558FA+vKaPZEQcice15GisaB9GUpAFN8p7z5GT6GtqhtCmzLK5gMWiAC79DDOVYex5UWiuX8\n",
       "/Ui/3EZg2Fsq8DLoSYys4u6HRMibDPDpfKhp21Y9J3yyZRYbfk50tlYbrwviX7vN4wGzzfx+18Wa\n",
       "lT8PVfGa+xWPNUB0R9dLfwFj4B46VuTouXVzcf491cAPrKSG3CfCg0t/ZYNWiR1v+kCthjnKE7lr\n",
       "rRTaH7MKFa6778MDo8WRWl68mouYY14jHwSlmLHmFqdSKz7IKgKetrOcgnrGDz7gpCSQClELiJZP\n",
       "GgtPuJi3u/dePVcCayEkvCsiuQcTjo8EbhIGSNHHDil9vPrUk/F+e+qe8JWD1UIetFWlSWqAblhp\n",
       "aJRTV/l/pIFpkhmi3JqcBG+4ryk0upbrEcZy9s3C8p+RhcwSpf9pGwrCvvWFccELU1oJaBwCbmPr\n",
       "pSafxfGuV5CQB/6vvSGd1sSM/SU22dd4F8WX//h8Si6SqsaR/Cr1J/xzUR6jwq+tADmIk7pjm19T\n",
       "joWPfFyBHBVtUd7YB4pbF+sT3rNdTXhff2DT5/Z3xC/VTxhHyLdXopIKyjZf//Hk5X2kDN/6oTgx\n",
       "1fj9/vHnJiXifIIAoC0+LuVtTpFYvuvJjgEV4oqAPwjm6Rl9IxdvUvSz1IJp3vl/dg4r/k8e9Pti\n",
       "BHRgygIIrlP/H4B+q4TkRJPHIr0LtvZ+r5SmICeVwyKlH1Vst71FYJiz0yjjEYhPZhDlu4tFsmaj\n",
       "9K1w9eSLQEhcf4poZH0gmkCN2ozwybneWVopVVRbyHEcs8jq8dTnEhaoi+5zHzrWEXtsApAIjtmK\n",
       "Kcfn3ddCAuR+V0Yrhowa0nL5cw2Mx04+4pQmVMIHg5fj9Co7viq+vIEqq2Dqn4Kh5Ehj57lLceao\n",
       "keL731kw6mPVlaFZx33Erb0T/nLEtR4m51KpatWoPZO4F0Qjwo/g0BpX89ZqNqYFyeFautmMqSgr\n",
       "ZjCn4Ahtfj+rTwnwUO1lxyD4AMHJyIicosEALiQd5eRSzepRqsbDA3iIrYDaUVjSYiRxoKn5rpV5\n",
       "tUqEueBI6cbdaLOC69FITrYpZEZA0uZ3H689gTGUH9zmay6sAJIO/DG/IVzAHJJoinTNc/C65ReT\n",
       "NTfDALUyD51V7ax0dPGs0SkKo/lGAb5/71xVpJr/2ytWlh0QY9cvgPQz84xmLU3sUFfo8a6Z/Kib\n",
       "M1HPRccIwzawKs0xO4j71qJ5CXfzhUFCaxOhrL5lq0I4v+0GBTt7A9JKoX6yHiE9VGmRpGiHl2Ub\n",
       "zI9/VCdgfc4jAmOUhWLp6/H2duc/795YVo9b6D0L9Ll5iSZBSepJ5PIwbxhv/ZKHMn8GGldlSNEr\n",
       "PtW7aDer2Z9zYVZ/XDHk+c0ElEpa+Nu4sXDVpR8YHJouWq1rH581gjgYfdirLTtnsrtOKKA04sze\n",
       "pngCIH8osgglRmw3w/rpmR5SI7hsup0tIYNQHUpmvH1XIrSjiCkmbISozjUMGNfzQnd4XXK6Fir0\n",
       "s/R/RnJ/HTIPbyQU+ebdVitSen5ygFCDiKzDXM03f7vY2l8RBx5XmnlJufMK/h605kSPaytLyMig\n",
       "I2GatLjMNOEYOyXha2qrcJ5rCT+b4ZjWhVwSLpVdGiVtB+5zaIocUKRX7mI/KWKl08QgKQBKCAd0\n",
       "lM9+k3qEfTtb8gN5YGrcZdST/Xf50SFY7Cjn7tnGb+xr7IXGYTeunwm9Le8exnzFaoyNF2rkyqrO\n",
       "CwMxHWsViHC5rII1+3s/gqGcS7W8wMRNC4yCRoMo7I8Gm4Demf+ND68uZIFDjMK9hogf6w/UH0sz\n",
       "pgK9j3q3LR69hnHVodzDQjyxY1IlipO3WpryN7G8KHT8z2npI2yXjCETSN/c6lZoH1fxbbtosoTH\n",
       "gXgjdTeIr9uQtd88EWB2VIiTwx1slsHI5FmSiAmurFqaA4hm+rYDrSboDHC2LKko9c3rB8dPNvrv\n",
       "SWUemDWfAFxfXl3RS07k5BXfbUewX2n5YjzEsWC1Xm1Rfa/ZGX6kCImrk2caPdHC1Y7g0YUj2JUi\n",
       "1XbRpwR4ofRZp1bOY0yCtp4I7+yl2c+TltTF+tADgon5prrADMQI5kir5+KxrB8ZMyE/Y4gfxt68\n",
       "FDbDPg8P6ibUD3UJwroCaybLu3AFSnX1plv8PhDMew6FjJBs6Vmj9UvLIPblxe8vl+gk/L24MSle\n",
       "R8+5ka9aojJEP/wosBb/one9y+wXxBgE6KlioCfSHwzdQd3MlRN03P5LxlVcUEJ3cCPs9zhHg1fo\n",
       "OhME5wJPZ8OY43Vtsj6CaE+NmJ8Gp+9JqjGAjPjtRWdnkV6mf8oxs35Mq+E4uKRTbrucqz6siVku\n",
       "cS0tG2BQbt+0W2VPXe3C6dbH9tIOek4x1cCiT7SGMvqq7cO73oE0NsMQCf5cSSLLb9tkicMBMh66\n",
       "4lu2ve7jQAdsS5cJfI7UM3SFo5HYTtIJyXy23Kf6dAPe6HrCjRK4AYaBmQDRzTpdqJGUj99pCsjt\n",
       "vVA+7A7OM+a7+nvuMQlgpgmEF+YYoR/8ND1WCKRRw87SR7Vpcic7xv1zJPkosiF4sPZfTsWqrV6J\n",
       "N8GQLzveaFYzZeN3v/70H8dPlbWqrlzrctHqJ4huoy9Z4VVQ2Fr76Gv78RyaQ1Fd80mlisfd2R+v\n",
       "NGrCeGFh1/5HYznpqW8ROromlu1ulITj3l34hlIZ1DRpXkgJZnbGRsHZvU4GYoZVS3LNjC6fdWA+\n",
       "YoSqDnSu7q2YjlFHvfdOp9nbrYv0iFnypV9SA55PIl2JwUxaJ0HQ9cGLUy/bBxTJmnDPq/MXN4ms\n",
       "rqoF26ZKpHPOykdtbra907ETDL2APwEEEPqFjBNfjLgXilXfyt2PYV32SN3UTg+dzOqAd1ZRexSh\n",
       "RoYnNyVksUkKUtOo0K6cfSKiJQXvfNQvYvL9cQs99Ql3PtyESyx9FpBkpuYzXieaX4ZlczdkxVrR\n",
       "RjYLUW7bUYIlEK3wgDe3eVGuyGnEo3Jo78xFZwKvsuCnVdVseMw2uVwp3zYqF6Bbi6jyEBFENf2/\n",
       "EzFyS3buJck5AAANgUGaJGxBH/61KoAmh9ugBBFo8C3oPQr3kjThN1/3r0upSMY/yCOcc9WhZtWT\n",
       "e7BK8sR54efR6INXeL3atEzoBQf7EuPDAuhqVmyu9Q3romyJOK5vCM6NqelUpeCIA31g3pIyvT+b\n",
       "ExZji8O5mitM8OrOKChImQGJjkJhzwNfBud14GMLd2ExKv9RbN9c5M/q4T85V3gcKgJp1N5Nqfcc\n",
       "YE5hHclhljWnFfqM5as/XZqlMhG5aXSkZCzRP4jNzJIgtC+v9zxRoeLr8DJbcbF5T8d53B0Jj8Kt\n",
       "+6Ed5DsSd65SzIc5oC7LOWYOqeECVY/oiGsUL7+NyZWtFBavtE18M7gvid2eF50xc+Y3GqmPlCYU\n",
       "E97efm7+qks332eQYrWQEkYEOwwVEEq0aNi7Pmv4ftMKWR2csaeKx/Wbna2FhScco5NYoz8THp0i\n",
       "pEqoKQEDe7BMYmBR1vxMDb0rPm0rYcbGVQtC4DbJ9hxBJg5Pxc/A7D4+px3pBVSiBLbhbbOOkN3a\n",
       "1THd6Ro3CsjxM3oJiVoUfOAi5dnmlmPhP5rmHimqT728axkY9fJyuOUrf5O2kIbj+m+szd4nwZ9u\n",
       "Ha+7x5SCQCePKpJ8nC0f5rpTri8kiQJHv7xNRkWS0H6jwR6D5r63m2bAiunLmf07W4wpWZ6HAboU\n",
       "l3dRRY5fmsDVDqONXZ2DFpu/FhNW380CMURCm2vUQw37PwwFTNhSs3+H/+mmZOCtQKXN2vae+vWH\n",
       "LJ7MArIBG6tYr08hk7ov4GqoZmskXaWqnIP5K4MSzshV2WuIAN4H/HJF8g1KQlDa9kVothWjUfub\n",
       "Ma/vlzCQOFd1xwZczCwGsi28qSuFtyYLrWT5jfKBKzPj9aASYk//jw7CopPIfvkGAyXie1i9nenK\n",
       "Ff/r8w23DNGW+d3C+ogXJxj+5zO3223GRnyNoC1X+21XGjryo37RxHR21s8nIFSJJqDX4sOKVlaH\n",
       "PtZwCaTrT6d2hsM9ysWa7+DEJD30QKpmY39lBlwDu/kIS8e9QSLV2HuQHSbTOayPOCMpcY4OjjsQ\n",
       "EpwRboNZ8YWe8r0UiR0vP7SgMWAslWUOdewygX1945U3DjDL/QLgp2i602npXVtpY1Y4NZghsaES\n",
       "9JzT+vJLv8T9+gIDpD4AVlnFVRYh1hC2zVBLOnp6LJ/2hU/F2H2jfDYjSuI5aLn2vw6EceQ8OmZh\n",
       "2eaz/pJzaE9BiCcDAof6qiWsdnApyeYCTzfIIe4RVmpxp6KZvv30IZDRY7Pj5aXpozhbHl4jAMym\n",
       "H5ie/d8Sk9SChNUmyhP1PbaeBEq4J3DpLw4ibZKponEp97JueMs9OlkMzItoqyoVnCmTd4TQw3Nj\n",
       "01oqB97LHMaODlJ+R7eMzGDYDIAHdv9XBc25g1XGD9gxFuJ0hVSdqq6HY3dQCyQ5HBvzJklzs3Bm\n",
       "VApWVl78EdydOoKYb686fhSONpVA5BnAkq4I114HgdPm3KaVWJePOcXN/tnTMEmS93T6Mw5C0b4Q\n",
       "YoGTajXHK4ZFsc7ojZvTEoLqF0Pz5GaMk4u9fmBeJBQi3dAzmVmTsz/phjC/uHdR/zeFp7xfq9Nz\n",
       "LdUIMV0FWCKuvVFJlBRnDzgG6BOQSH+rB5RU2uW7f/TmAFTwA1+b22vUGAzvaKb1QzmaE9m31c8Q\n",
       "VKBKG7zn/zIMpRgivxiFZ4EI1IF0RNT0uFWa6siH4YwUJGCYKqiZY7WmoM1AlXAxdQWM4DVC4Qjj\n",
       "9m7p2BwPqaBMI3OBnGhoLUUtlQ0vflk27B4OcZgc/a3akG+3e3UJqRJ596kDKtTP44lqBnXCiJ2n\n",
       "pz+iHYtE+4MX8E1valUpn7XaxSlmwRjJyr+ftn4+3YmgHtupsH34gBiw7025+i0KggIyHsWXKg4v\n",
       "Fgq0DRH2ZYxJvkcKd1clPSZWZ4h6C0TnTt85NTtcyw+57P+ZGffC6jCoz+87f2NpbIDVFfKopzSx\n",
       "s2hjy5+cfA7GTWXNDmSClcoEwrbYu0NQ3N4fNkvGfGcdIQJGzV60bSRDAdQ6Bnu0jX+c9OhR7CX3\n",
       "iZaSnHakPq9S23ZjSm/z5sLVTRdsOHYcd3Qqim2YQ2Q8GXYSPpx4PULrrs+rtck4xHvlsfM4CVq3\n",
       "QHUrHHN4H6/v9DeQ/lEfdowIel5QRMnAMPJ8RqKNf3Ug4C/Zxe6D9qiqpgv2hwY3JISji76GMbQt\n",
       "bt7P8gJOGDU5t8e1SUmEDanQs3IHPHmgtIi+vZLWRDB58TBRAyRLYTOgHJuXQutE7syn3qQxagOA\n",
       "45rzwGmwveKZoBdz07sIXsjqjlBXLPBtIOFDMzrpGV2OqG+JVsw5DJuR4ucVPlQXg1uNT0PiRbuX\n",
       "sGELrErda32TXEIaB8vggHslFkxmz6RKxpgptECeJA939jW5Lm5T0jHbxQOCXO8hByArj+Hmcef5\n",
       "MZNWduoQk9vdP50BZ1N3bbDjr0Rqs/zV8yFIdSgTkdSHLfDhbnRpUQVOsgWzsRIC0wiKuc+7lig7\n",
       "Ld/5K2Gy1gJucOu6HjLO5weEiknWWTBiCcpMEfWuNdXajC8g3bYfKkiaxSh/udoeoVZQLwC3xwD9\n",
       "zylOgYhWSSoDuvWqJ/nHxJu2zdqLdcVPT2h7J8pxy2HkoeLy88ATmOuaRaf3RGi0KS0gqco2Zse6\n",
       "IYwj/3uf5LzTb0a+YkW6rH77memzFyZYdLReWgqIqi3EqJzKiS973vbILMzCpnWkEay6JDb1FR23\n",
       "hro0mXn2Us1hLDcSxyv9jw8Z8mh1C9O5+BwAUZr6T6Xqw8/jnDyvhuhFxD5DnBERx69kn3J0L8zb\n",
       "I2EonRPFUCjqfopa7Tpb0+eXunbhdS5g+j7TzGOBYB1Z4EV7AJPqpwAzd4QQyg5EAf6ybDNam4QV\n",
       "Od2UjpIalPSLddxmj6wPh14ufbuhX8JY7nokkp3uKr+Geg0ZhrehipN0QRq0quBffgUBhtetkMgS\n",
       "KfX+jV4UqBE1IiqvqQ0+5uSriCM9/SeTqeO0Ne+fcP0PFz5B0pa5zLV0WwaDQxO/Zo+rlX7Iwy1G\n",
       "TBfF548T21ZWX81U36WcaKevQck7qE5Gtwv6fE8e4NExcxcWhrlVNptd3KDKJe+Du346KPjsEd9y\n",
       "5tF6REuZCyhe8hSA1dx+h0lY45jH5AakGaXxpDCx/6ze7sW+C198yrb1f0oycYQ9EEzGblomeC1a\n",
       "P+NQkppIF6Iu1LRrmZDGBp5MDeajQgdK1ijWk1arlRi1ERmp0Hs83bOkxS/erDx0bHjFIRo8wN+A\n",
       "a42QAdplaa1uAOJladWGs+v4ITNss/HaKtVqWsAdvFj93hw8z9uIYta0cFhaX7CZr+Z4bV7K+KI7\n",
       "EDbGpZ9EqBF1+cf08o6KwfNyXwpQGCyoyHO6u55P47oZzWcFtOQe5c86Q6uOKbfAdT5eg6ZBrz24\n",
       "FRyAHf9nWvDlNHTlzPq1mha++fb4y+Qyw1SMCB2dcXpWttkpls5qU48qNxZnhUHdZNKAM2Mkzr5d\n",
       "MTT0Uxw1rAO6V0dDwROLJ/vTHUnDtfAwHZM1q4K7bj8N3R9Ec5ZLW2s/wk9G9bkqr2dAuoJzhHLH\n",
       "97BZijC9OQ6uYrw+egJmtfIskER1lXlvi99s3K7HKQJ2tI3Y8Hll4uPASkerDXhldfJSvp/3qgw+\n",
       "8HW1SMt2VzLcPy8CpFr3tHPPYiacJ7+dSq1uGuQbnVd16bf7H8nXo4Aw94wJJK9F3VpPm6WGvehO\n",
       "4HQ2oGYRfD9Hj582fds53RDfVuxIdSgwPI2Wvv2aHiQA1ex5EJppcpDmOSXfcwxcDkMMA18TNcX3\n",
       "nIx9XnTtBBYk5+0Pvx3IxISChM3GhGPJ8HJWGsTGxlIldHLKLbkhA3Q1N38Zs85DHwAVfG59OJ3i\n",
       "0Ds+LUxNqFYRV9owjHflrpp5iC9E6j4BaXijrkA3+KkvEwwKaS0t1eHuYwa9Z8r46pjhxba+KRUo\n",
       "wDLMzBalWrWYpPwkx/UZASGk62pQPUyU30WdNByPMOMUPIWVu36dAMajZdOMGeNngjHX8SwL7OwB\n",
       "iHJeMukdRtYIUqM7APPocj5/sbCN+rfvmQt/TianV7tWZ4JJHMKX/JaN6HVaBP0OROu5bFZzI7Uo\n",
       "5/wAJJ9chChHZu8QPHjABSRiZeDYmonSnboTLItazU8ux3+z8MhwGAuTD81a5YwqQoIt32H4t16E\n",
       "9f+YLZX/5EAZ6pRzfYmVz97ZpeWSvvU+Q3quGz5sP3PAGnthkP12BGDoVCBo4WY6pkhQNfGMwn5F\n",
       "hA4E/0g0BGvPwjxLun5seRXYA04rU3YBSQTyZrTHdTKBDqt3x9twm/KzNWKWhH7v6rQvopV6wovj\n",
       "YYuBGH0lFp0gfJngB0A2PjehXGlA3EEu+T4ar57dw+CTBIHPKgCFuOXzdNcbH7KWtE6AkzwnFqci\n",
       "V8BxhWv8ZS6cUuwBJdyTdUrMC9Q/43uvvUWm6bi+MkNQ1WUSVIeUMxL/1zR7y6JZQLutgAlDQ+Ju\n",
       "8q7eY1w7rVx7r05vwXjxXfjSPRlh1A1szKd87xT0zRql4MyGxtiCoGKh/XFUql6SjNH3Pv7/RrBT\n",
       "b7ERvKJ+7I9BY25+8+znMgSwMNdye4SE0bF/j8pYb19Y5P+93Ff4c1HDkzaSfbIpf58AAAR/QZ5C\n",
       "eId/AHS0I0LFgCwbtafc0RSclj5yQRDNkm6XoR+NABCVoVEsYeRXjPqlLEF5nwzGbT8BZrBe20AS\n",
       "7On/yPJeRwaPE9df7PGkGKmLkJ3bApW9FoTj//0VcQ01xksuNt6OGCK6VWjv9VOoAKjX7/fOTpNt\n",
       "ee/osiidpDMLYehkfqrrcNmXexFY5tbaWM6MzFd3rf1C9Rxk49e6MEyng8E0le42z5IjnAfnBqiP\n",
       "viA44d1KJQuWaXbJ29rmF79a/FB/RDl5nvCY3e0T19psISiIGm+gG8U0vCTEpgMO2LUFtQBy4Deu\n",
       "+/ZA0Rtp/fHahNIVqQDgiPPnyuLDlSHlNfK158DRnVOIpVPLt25UIN3hSHorvKMTUTHAwbzfQNV6\n",
       "U28v5OVFbs0DWLe5lViA3/uFPvnwTqKhXrqhbLgm5hckhw5Cr7Md4Jq105TCVC3OahmkoBwJiMsS\n",
       "jNGsl+7/l1FGkWd0Jwboz/haP8A20glHrWJ8GFg4wjnBUfYp4ZX4xYPMESdGRtjuhn+lnYOtibTq\n",
       "BVGG9tAYkOEAo7vZDfTUGVcJlS6sDyd5JiwmeJHrsYm+1+itLAGDqJTFTEwjrUZIpI7sgk9ZTz9c\n",
       "glMgld+cOXjxaotmINiw/VVhgtwk1UY/3b+ZF3Q3c1wqCt+Dqijfvzfp+dySUWnILshP4qIrpmiv\n",
       "N1m6WF2OcHAf06fDZJKXclKQQjYEqm7Jw/owBClUEhaZPjCdrxrWktoz/L/K+sp4vXcFlc1sHzyh\n",
       "r/USKAfWfN3Rv23lWn8RMH7v2baiur91iLvsSfDE5A55Vpq6q+3+lKBSe3dy3qPGk1R5dk5b5Rxy\n",
       "BeZLWYp0Becy2FA8schAKtuKkR28MIPbp9Xk/+CJ1/h67nCd7XTF8iBbkgu7K+LrdVi3SrjsNMvF\n",
       "rfPqh0vpkeSy4cmMttROlGmwMgcI7UrSIvO0SAHTpqlY2bHRxZ27esKF4T5MRwf78BCO5dlJdK4K\n",
       "481arq9LM54Sd/GiLIB/4zaKiHV15p32aFgBXsiqsIHoM70Kk6Erix6MFvUXlBqOvYPls9wxCQ88\n",
       "FNv09Zk2lk5FZWM6hRahBuUfAnQeVAockhpdtXVnU10E3Ae1M8xLWAKuqoZIxh4ku/HnNwHep3KC\n",
       "NkroaSmrjB+0TP+wa58Ec+hKjTfUhwIWw4UyFgG3cKX8UN4wy4odw1Nqa53pvZIvD3PMfjif389d\n",
       "5iPB/C4JnmYQmWwJS8kQutCJxoJnR9Q66iJs3/CYUBMW2EeGPQiZYpyzVm1klIXxh5ife43qtc5o\n",
       "5HHipEhcZsATjdO//eakf+7OxexKHQj44vlW01G6riGMdeqzRnGHz71PodztCUt879CsqvmwebAE\n",
       "yGc/1KB8t0EaFgRy3EHN950H+z4pfwUVdWm9evEkfMa5+OaSsnGfzt5cZkGnzAqMUA8kVEStcNpW\n",
       "VW7BJNFhXYG+B5o4t6WUwDfetNfGr4lHFRlcZEaInUjMudnwNUO89p0J+NSMPkRnXdb2t4JAXq0e\n",
       "1TUyGnRUVnsAAAPlAZ5hdEN/ADn6d5ihAeeXB2xbnn7MCPFb/0SIgAnaMsbMRi3WGB2vnSGDam/Z\n",
       "J619L7MtEqPxWNKPTY91aO6WtReBerNhUIUwCtK3ZpXecpBRiK2CZ13Ok/d6QKGndyOsS+gop4L5\n",
       "6NZ9clDTuOIe1CHuy5SIz2f3h8c/paOMeADU12Bj9mnsIwnDJU+CGOJ5JafjmlwP8rEiBDP/99vQ\n",
       "udBkeGjOWDhTiI1uUVv8v9gyvSpqNbfgvj1JPMGurjbjr3Erqrbr9jV/4H55RbDwwKLrB3e08PND\n",
       "ImRzr+z9uvF+NtktTUU1m4g2JNF+wVE2Vja9uXRskC7XYFDqsX9D0Dk6E1UCq4xwf1Wl/WsA7SpW\n",
       "6/jP+ERStSIgh0VEqhQ/+DWW8GnJ+2Gm3LyHpzbVr2fyYpYkZVc88RuvosPpbO+h5ho87BIUPb4O\n",
       "cEbAptjKz320Q6Jj4lujcsBipmYWlg9Epv47OW07x/O90+WobkAPrPyvBjFzmlj4ys1XooAxvD++\n",
       "S9+0klxU8dPX9yMVNU0tXoQSkUBd4ArfeuwKE0OXF39czPJ54aENS/EgOZ0k9ov/NNxa/CXiXeCI\n",
       "ih1JfeDL9v4TtLgpFC0JvVZEsY2i2y68gfh6KEZYf3/cmRseZhb1KE/eapNv+ydjYXLkFinWEryf\n",
       "Od+ydSqaukknIz5VdnXwk7MsQW1tZzH/kOkvENgkhUIHG9ePtDkUWFFbtfRZOeCtTEhJxd5Ahic9\n",
       "LLq4rofXJp+DV1k1C+7frZ3PNn53Dtknq5px5lq87Rq75NolSNjc513yC7YuGvF9jJkQeViyAJk+\n",
       "uRHRmqnPGRfYJgNBPvy0Xe8o8xBe78RDK9UGjYthNKNlTxOlgOkXXAfsh9r1QuuF02LGrQcrc6d+\n",
       "iPV1jakGzlTZk8q8/xkXAwhLjltnS7ZJ6ECxrvb5ADMiLmyXYab382NmvjqzEzpjpniBGYMFi9yW\n",
       "J+evUXISXx4+ZoV2cJC9XH7weEvl11sA/1a1GpE0XslBhhDsqz5aOAZMqfbm5twy8+GYdeFONXaU\n",
       "HxrPa4Xaa89065HC11eW8wr+WGiguwnAKxqadVBjCEZ5hE4H79b495lkHWvajLDynf790V53O9+A\n",
       "IvGYnYo3DMPFx8L2siL6VWM4EWmM8NxfA5JhAA54nSyghDOFNCL7alSq7h9FFjWQk21K9J1Ilw1J\n",
       "JVc9srMtHWapfCUpuKsuEWIW7a+3zN9lyRj9AGM+i5FplhVPPJNqaS98VTCtr/YtCJcoO+AjQtA3\n",
       "R1YR+qThT6pFFDXKMifiAczOzMpdeO+n4JpEiNhFJegMHq+2tdoKIwAAAl0BnmNqQ38AB5iffVsO\n",
       "e6xXgA/HnVR2JjNfeuh+Z7OQEZopYnyi3q/+2nRqyhdxqMe4G0/0t3TZgx2rtwpLfEfzZZY4XTZR\n",
       "a/E0c25GJJ3M/RAQsXXc+JmEJnW9USITMm3HwOoddnfCWM5hGKC3HxafKMTZs1H5mUiZH4quxm0J\n",
       "XDje9VSTntHha1mzP9T6nhBcB5WDFZ7aKFzuJocQjz5bf/gXTDbWVSaXNLynIK3LtJ+189HK1F6R\n",
       "fPLE0aBotVAZm6TIycqkwvjVFwOjAnweBC4tOJbywbXQE/L2aEVUxN/BIkL7faXL93EyyuTUx6xL\n",
       "1AAcOfCUjO0jIoHZ69ygFOGRlHBW/Jy8aox/wF9EU7fsD2NNVbE/9bI2W1kYIgICgcPULEDz85Q/\n",
       "DJ2X7VEZ3iIf40RSM6lP3Ksypw0NvoSB65RR29dNKWyh/yHjVwDCNNQRM3MCbh/PE2cRSjf2Exnj\n",
       "kURmm+HCL6WRFtpinZpOf4W3u4fAl25Rki6aG02VnJ7hzUKtWrvdYoVXSRpQcEidooNcAHVy//0Y\n",
       "HVH4MRWYa70e0W6OMNSvegrDoGaMciXIyjbl+NDHTyrE/66A7oOZD3HHudNjoQOkgTOp3WWmW6gQ\n",
       "9U7hY4wa9ypAaqcBNEvWbBZ5m+pNz96kVl8tAlcLCm6pcQYZnUNquwqhrS6pY4qf9nFq2KnYUpKh\n",
       "qZ78hLFfqwWtmhT7DN/mTg9N54nFQehqoHzz10lJIN78LZuf4F7ZGyuJ5A9gmV7tFgsbP+icPKOo\n",
       "PejLOtLkM36d+Ksq6vLaxqt+Fh3CQQAACv9BmmhJqEFomUwII//+tSqAArv+GZv5F5m1N7KhMmhT\n",
       "YHF7MIXjyEAX+8+m0ZInHTSLIW6OYadFAOuy4nFU1/zU2Jy5MDryXYOkhDq/c5Ryql+R8uWsGjAP\n",
       "MJphb/yd7v9BOKfMf2eDxx2OTfef1drIY+duC0aQd88c4w0h5GWxbsk+qKI1Gwg5OBR0j6HqreI4\n",
       "1QYnCAwoKzDfLQuv+5dx/JA4xvC1uEEl9QIczvDMXPxe91PWUOXZPZA9w2VRvqyxE4wu2iWIXg85\n",
       "mAofARx01IJO8TSESE+DeKMzIsMSd+dp2JIq4kvtdbTjLnD8hdtOf2KcJukLNlXR13DrOoSLyyow\n",
       "YDnpbDIzElw9/+H+5zJq4coO6Cjkb8QDs9PXwY6Ef0fi7qbxQLO1wgsEt6uydxYt2qJ5Ao2g3AKG\n",
       "C+gxwHMLmLI0dC+v3p46ZS68Dkcl77QdWvW4zKdPgq5BACRwioOPsxcCZdSFggRGQN4c1HvLl4a/\n",
       "tacZD++nhXP99qp/uy13eJRAp/B3VlKA/SJR3yAdQg9p6uBw7Z3BRxIXlmoKq63+2Yp3yNpOplVd\n",
       "isgpQyw+haPbzprMIu9SGuF3Z7/HJ67XzJ1RRR3QHUuZ5sZUzOgCqWoBwXaKHJpZEEmwS7r1LjpN\n",
       "nsmTW6H2OIyq6QnXyL+Yp3RY6ge2CrOoTdNJXRybpmQHNksDxewhkv0c8VR2sQmHLjGFDbz5NXlC\n",
       "TGK2TVo0KY0sLOTjDt9R4I3XEH5hKAHgyZqmQ2t1D+ELXJ+7rdMeyjfj/g/xb2wYX8SRUcv471fh\n",
       "N2UGeNXuA2cn1d5DRJ8NnOc5vXTyTgI7piadqyb+cmeIFZ9YzFF+n/r3/PZNnXZwJ9fYIzMlfyCm\n",
       "h06s1SJaSehZYMtgOKTDPhz45JjZuZPF192uSbELlPc1r069k26IJZRd1N3jmbXP3dkh3fGldfz5\n",
       "8volqmyZGLuOgFPuoeOREGAw287RSxlIU4EsakW/upTb7o9QKETWYm9GZngS2Bobu4fwE6p3uslu\n",
       "jZrKrJdmHEusJ6z+tSMLMlfSY3ofAwiJk7bze0sOa1X/R09CEZg2FR/OmcNCEUBlGwuLE+rTwstd\n",
       "VFu+GvtzYOl3OhnESNl8iOKQChK6MvkovfpsdOEwRLrM9H3e/JPhiIYUQf+d14zaiRNXCXWzNE+d\n",
       "3FJ1w+BXSpyVqeL6Pgl8w1lWwul0GKpnIibMBrE9tsRKbM0vqAbvzPmL/EUP2Inqunp7QVUopMgb\n",
       "V9MuJLdagN72C0izZ6GUR/eI+5ADsTqKsLoHcQp2WRu+iI6Wr4o3IuiMo4GpNwg60PvAoy5+M4T/\n",
       "x8UFDD1wlRKYvn4VjRuhXyCUwEp0arBbDhoG/kkbecsh0MmrfjZAnkrSZLhBUEMPDoXx5evKSU01\n",
       "ldCB+z0Scb+49ku6wI6Ts8nIPYPIKfNzw7KJDXhqStwWlSqdsRNQdhQnGNs6tEwZ35nV7Ez/Ny+H\n",
       "OgoUbST5863GrlN1t99/Q2fMY4MPWoY8Fw9mvuHOBhr915/l+JM06p6K/kgjYDDOZo+KjUQ9IWS8\n",
       "+gh1MXomlRKbxVzO0IE3jIjTASSaQzf+5FJiP4SpeBP/oqMk6AmeEmiG/TG4joEZYeYiO+Tx0IAx\n",
       "E9TVQxngkE1FuupsT1ft5CclGszdbidPp6YN4NeaylX2aFeF2YY2Arx/LH4FjeoWqXTD/ud4zHvk\n",
       "VDc+/oDtP9Izf7o1R9O5x6hkQQlOyVo6bN1lPS4uaTfA8pf7N8RY7W+VtIGMuKSoZrF8HkvOKAA0\n",
       "1N8ZVWj3gWN3DyD0taKeGZ92+lJCZVnPEtGsNg2RkZFteJqei19cTndS+ke6knUziiEMw1o/yaSP\n",
       "ywRC6Dd6eaj5pZv8u1I73Qwrt32nuiFVJ1RZF0h/UmClhxSLD893YbMVB8mM83iY7SbbCvHXWza0\n",
       "eqtNErL9j5nQOivn2Gp9hgLnDaTo/ZZTmVxUqm4ND6wCkcXo7UaR+ob/3LnwJIehm3h5Kqpvr46q\n",
       "qZ66J1c8pqUigh5rL46OFLIhz5JPJvSWS6M27dsszfWw/PNmBsa7CsOfrU9a8DLq81LmJElptCBO\n",
       "T6i3pskN2pJ+OODyiO+QEwJpMfmHfua7prN/BdRpr0xSXmuhFyDCKE44CYuRp3ZusnFyjpqCHjQt\n",
       "zaGMpxRE9AEPEGa1O1VnvhJmu1VEAtLN4g9ok8RU5H93GzIhW+bLf1PgorS7DpAJKIW6B2ng5w3+\n",
       "3yp+eLtqYUVf/cG8BArTKauPdSoffNXlkAYkyk71Rwny6dUHheccOmkWjNOEnpcZ5v5dTLUNYTbl\n",
       "zPn9cLqrwubwFfZ+9TJrY2JNxuznTiAAdQr5tl9/J5OqxV2dN6KqlRVPtVRisTtuRYtRdPWzjL+U\n",
       "Fxd07VvkDHR6jSBtXjHc5sg4UZnjPFfPqo1XWMTpl5ThNEs2LJLKEQlFcFYQmekaoRfMSKtOqJbG\n",
       "05mkg2QQOdRyRmj0UGvwdmDwKhzY5xeezCm3NMgxqrctkH4LccyhIERKzyScvsf07xUcrdwGWvAt\n",
       "cCdUX6RyPz45IZ4J0iVGgPP9kVVliqZyHtA4qomE/WsKx1Z5i+MHQYisCLsddcKPHtysXWu2U9t6\n",
       "uMW2MGZcniOqYteDLnCYmH3jhfhhOLOdqj8JcSCrVlVuP9AZjAYtw7eyA2MMbd2zv1VTcnmJdieV\n",
       "4CBS8+vI5NmNic56lPcJAT6QHuP+h60yAmHWTsJtPYboZ7GAs3+VB7uOuVjxYQRaZf1sUpE13hPR\n",
       "jiYrmGCpdBRAqKxLm5t9tUvVSQxNXTHshJ7DMiaMIaSn7SBfk79y5AeWRJSBgMC3zDSVQWIpobP0\n",
       "65X1S8iE7W+WM4Cvv+cxCY+iXcQkklgF7hlvprv5GYFODmlUMm3YJp1s8ORyE6d+5vzk/UVHKEys\n",
       "2qilobPc1/klib4ZRqmFWbNh2PSyRiU3HndObiNpXAA/lChyZ0CVXyQHq/N5+GC0mnqQZI/mRzrZ\n",
       "YhdUwO9uUnzkg+HXrSLgBLF4uq6o2Im/IjHEGJ5lXUx3V2xa3e4r3pGVYPOhkSIjiA9UcluJGPrz\n",
       "lXSZntJORhaJLhIQQ2TT1OrKQX7t/U229ttl3AElUsxCSNjQVz/uJ9gEVHmuY73FL33OGIxBtOld\n",
       "+FrfR0AHArHt8EYzlUGelKJJQTMVoLOI5xDDqaeTJdqntd9/vnp0yGcDcu04b1xaYwMuRyR23YFt\n",
       "CzLRj1v1mv44HBFC9rxpc0YqfINLgwfmdyc1JHJVxpo5VL9WVmt3Msc4OhnxscvX7WCMj/0iDJQL\n",
       "eShwLxogEEoteCV/HLUXuMvwVBGHKmj/8PNt9yAaMWXAIeDf16kwV4nyZ2AlRE+eb1J6eqoYH1EY\n",
       "R/3gqOHrVwrfeCyFIzMVC4eCMd/K8JMexg4aAECtwddKwMCaJMKOGzEeCHttKxC1dNWtM722o7fX\n",
       "JdtU/otmB53cXpIL4syIBKO+ErARzwcHQWis5Tvzf1mmzsxejnL0BSvsxZDzmck6U3QmwDxdhAZK\n",
       "Q2zEYzITCdjiSKzhy//AUj9u7ZlXy4aKgy2/0mEO+2YyLAg0i4Yij9pDrR8vVTujGzJ8qBK4l+Bq\n",
       "QzvgGk9TYeHM7mvyKO3UIoC2ZMPzMDN0p8SwJsUhWEvHnvzk/f17jlPKfIrKU0e7GqJ0ZL8N1WvO\n",
       "18v2KeFdVjlFW9/f/We40UZtJEaGRJlrn3c/MY/K9WHd1Zz8IwMItvtvVeeKItSZAAADAkGehkUR\n",
       "LDv/AAqZjo3vXxAC3Mk7pNfv7Y0ezZhAYqOCiwdLMJV+0r03cHNFrJ6FFugDkRg0EJAeljyipMvF\n",
       "laUc395xZY+AInNuptj1i/8Q2ia1rceeGtES5oOyi/JN3VHUGMcY6/8g41sIE2AN87Bi6ZDCt8ia\n",
       "iRaAIyJrzcQ4PDoE7zCFlHuithoWM29Df1lQyDwAjDfTtYla9TZLaYd0EYbrRE/WJm6iwcWLoqzU\n",
       "QECD13cWOjKQCIXbtbS6s8zY4UDozCKI/SFrUAjVOPycrkXDGATqWBtvzssilgpBC7rHnmAIXvYD\n",
       "gPhMyJlH758BvOErxanT3VzRIP8mKvjn9GeMzbjdCkTKvRybs9sQaiS/TEnFxlq79s0uORlyJ+XK\n",
       "Cv8cCFDCPBuXseutOjWjYcDX68uZsKSar5JkRQ+bRDD6dqgqnhAbSZHYjtHghM0FpcKkZJ0//5PW\n",
       "hsxbIhHSvKSfrY+z8lC1NUxrNwAjILbZaTOGSOxM/jj6mrnXZs1o+k0VXJX0CqfaSdp/f7/jnPiI\n",
       "b9LJOdwRmB9D/dpizKV0ppCEny0EF4J9K7FXn47+U81jG0tOcqLCUnKAhXI038XSlEw9TzbpaaKU\n",
       "t0aR02ArlnR0X6INUl5k9mnl17KMoi6kjqQ/JEdVkxQZV0+8vQRf0eQ6Hq3Gr9TYt3CUz16Cew+S\n",
       "oIken1afrDpgGpnpmFl0j5VLhMaRrEunuLYswAgw7Y0HCZ3n79PH9egzeilq07w/1UPkpohpYOv8\n",
       "GDitD5LvsBnYAC4eJKrHsSkpx/ecqyvjwekSqWHjpuEvRSztkqdum+1SnNwa45AUSPC6cOPcwivb\n",
       "iRh7bQqw7os6Sj5zTI2VHndh44BwtJ+qxDaiSTXE6rbbZeFqo1AQzsVDvysu5QHxfrj+/Vdq57ge\n",
       "VcCIuVNrsS7z7BropGEAaddBvBrIu8P/bTuOxZs5xXyAU7rOXbjhekUK0qtRii+mSZ10LVZS8cKF\n",
       "LASwCGJ4hKtuubkg9cOP1GezMxvgnCRBAAACFAGepXRDfwAMP1VMRhqOTcAH22CEBFmh2XYWpbbS\n",
       "VL7NRLOaWsP6ycigYNbO4/3GXUWJ9J8C4f+FqX1Y3vD4TVecEAp7iAIpxRNQCVhgaOvomNxkdEK3\n",
       "aLq2YOju/7yStfktNs3WO63n0wLe5KlawJVuj2yJtWwN4MOKxtj2Pyl0ay6iXfCM6aEooB1OgvCP\n",
       "EzBHEr2SQ68YOE4CZtXmizj+xM06fo7aBTCUsmCfvAp4ZMWjaTWYbzBt0ajFAK12/PeE58K+gUpq\n",
       "4lhKLvFo8kAnOH5z9DQjgoIw6uWUJwfr3koxIxW/FoVV09eq27K7A+M+NQva7q8sp6lqrUN2+L4A\n",
       "h+y2FngCRLDE0Qxyif8KcDVmB1KHDqZgl4Y8+HEQ+FTXzEwt7Xia+/fBds8mIx3pzKN6OmbRhUOT\n",
       "ZZkuLr4kiTv43XRQL4uoJIV9IgLDm9GtPXgf4uxFd8Xxc5jgDYUCykyTf2IuZcmTN13NMH7gFZic\n",
       "KXdyzKPqTaUfEhJCZcrTs9qM+XcgQyjc5aG7HDbtUJzMaCCS6o9rgkwI8FuMpc2LmzJT8AVZTwO8\n",
       "clWWQq1aPN+YcxsqTdlRQIXxCkHgTPVBgn/CSHZVI562mJhtbpzj+oTgf6L5wqsprvEmAr9oHDal\n",
       "ql3O6UIihq2J/v02W4k8fQN/ROM01bG+0R2pjVlpo8/Kbdd3oYCoehGpc++Wu7cAAADUAZ6nakN/\n",
       "AA7XcwHWTZqL9TinsmrftBquKeFAB/QKHrQ2uDXXCMRlauWrP0GmOssIjh32Lwa57QFspQNX2397\n",
       "3tOmq753FMq1RJFQvpcc/ac5Psj1DosHrIAe/veJyIwnobMggweUKQx1oz17OFqI0BzcgF8LFcue\n",
       "/4T/Djszr3iJVJqMqxyxpZz08HVuDsanXxnFMFtQ0OkfA3fqF2ZXak5k15A6bZ9DA2n2QuViWv3D\n",
       "HtapgVxA4RVVH8yo5MwekUhRkcoZh2Uz9oKTt2sVZp5cx0AAAAerQZqsSahBbJlMCCP//rUqgAK7\n",
       "/iBJRH7NrWPDbegY5GaBTwHvjeHzzrHsscBL4QepSJH7PsyIO2+R45Y3nB7Ai0Y7Up0LyBaHWS12\n",
       "lF1zL57XEi7dPXdcS5oPnTjfwqwdnK/zbPyH70CVBGNzsCreHIAXHXM7bEdgs+2uqtHzJz0M/lQX\n",
       "F5vouteqtxEn6JOgZlieu0eOCgDAIMoj+tEqRHO8rrkR3OIqHJGcNHcwoYND/4BdGFesQYVADyyu\n",
       "WyFvmSMAGjWt3kZokdZ6Tdzusfm/tvHLyg0QMa9vBMImVOqb/zrFv8vcMTEMOQhOG/BYFChMiZIj\n",
       "Egh0u1rdur6+MOiUXWHrZKUVRj1vGWkxI+pbPOElVMRd3TZJwbDyA3zHjJ36fQ8R5NPabfukBxnI\n",
       "SLbbLD+/s0gDO/fZD0Dbu3C/LG4WE1nR6Sc9cfh38qhe9LNOilII9SVDCVNdZLHy26fvN5JB0irY\n",
       "59l2hisa1j/Cie+0+ovHKexWtUvZotwFo0+6HLt9KiHDaySdnd9btX/iy0olI4DwJEMR8eS0vSiT\n",
       "OD4wucb6uzv5hajP+raNxDcYOvnMCp7MwPmQgIuwfCFx1pX19SHm+QfFWb1NSRciaU7pOQGxU7AK\n",
       "4Vte4DV7sz5PX11AdTSS2Rvlbr1L72ni2Q9PApwz2s/dApl2EiTwFPYTd2cDKdFQGbLhLMgtXZFx\n",
       "aru9tExswUCyb69SmxMn+6EmfOPoEIvlJeqmgkbYNGZZvNInbfB/VBEiONF28bFEzNggJoP3s9YW\n",
       "nFqYxgaEYwJ1HSzlMyREx80a3ivbbKCQ05DbkZFpbEBJm9s4VsYBaoEbCbR7U8HWRIBKTTcdnV1D\n",
       "FwVbqPJdW6OfO5cQkthc8NDHZ96SkuHK3cZa0EKH3NbWitOUzZzhc76yGb+OQmtLV+j/GdzNi+Ix\n",
       "we7yTHpBzzqdHplJogYKBlFxNgqQqPtauD+XgHwKlt7zRIgMpHGmPU7AN49XM+1vRxPDIsCHgykI\n",
       "AHPbhmBW6V1HEf3dk9Xu2HM7cKbZnZoHTPyq+Zd/vjHM3yr4Ewg/F+uMDT4JBcmMwRF+ng6VFXKu\n",
       "ZDjfBpI+16pbwV96qehDiFDne07oQykARMAVGTgnNsWaeTo+vDvtlcyZa5SM1a3DlW5sdJuqw8JG\n",
       "6Vfr5L1XmCb4r6+P81dvmxSIY/4XwaPM2av74wnQiQd6INWZa64V1xXwar3UW9FlQAHEjpfaFokn\n",
       "UafYg38d1thy6nigP/2H1jGAMRB9mPKHwQAALfgPgKP+MAWkZCyWhJOeAC7pShYUUIEimZj7xBPS\n",
       "WSPqBZF/K7sk1T92YqhiFNfNa9dnSevm6hCEjB1y18BfZA2EmKz79gUlr8hh2DfYIF4H1ufzh/N/\n",
       "4+kW9Sw4dyNDaSVXI+cSZeww0ro97kV0RagfWfxXOc6q/E14u0w5W1isflyNpHSZIXz+2a+EjeKq\n",
       "3Jqx6QygG94Jv5RGGquUH449BZCitf4p8V1lCRgZniiVEW8EcHR5YEWK+Qcaba9o4MgYWojj6y0A\n",
       "qXn6zSbkR+deA6JUSrlLkhMXrkihStExdndbSRoe6tfJ20jNFbvg6BJqs/dkOxsDT/xKj9fDzUFV\n",
       "0ZrMwH7nt+ktmnfVMGGd6vyzncFgIzDabNnIrNffe8+T0xQWz5B89E82v9d0LplKtx8Iqyf7L58M\n",
       "S0/py6gmi3GEAu0Maum7Dyl22rDkivNgrS69vl6VvNxshYpXCmYAshLGF7OgVGLZP5zehOtA8KwU\n",
       "aEjzU7xTOawyc92XDXl7N+mLnr3a6uNUluePSwH0leqlLLqZnGf2Op6u/LGCyrG/hL+UyKJsDDG2\n",
       "nwn8b/IUpzsOrlkDDSPAYZWKTE38oIihb6M5p0ff8nVP8EP/25ilyNqq56BUyfdaH03cukaC8qFn\n",
       "Bg+SC3M6OL3ykqZk/5YVsPEcXZ+HtDgobt3FtVOQVwujIlznTRXIc0rUa6FtKKHFKGUYxL4OpL/7\n",
       "0sEGJ3Ur6yc7UraOoZVfq/FX0ccd+cfLJtt9BNIAD5HbiCWkF2yDdn/ljSUsAts3SZpmd9AANeaG\n",
       "SgKDQbhKlHI8m3PUD57q9X4dcIikdNH1gAsChvdCKxtgwN17/ZU6+0dz+jHesLEGFPwd1okIKoF3\n",
       "nGt44YyAUG6Kf/jfz3sH7RA5POi5hDaH0z9i9fouOu+Czvw1hhTITwf4e9wm7V97nT52onvjUgV8\n",
       "lBxIv/ERMPr9zKeEBNhugduXWCdGVZIsoDG2VKjopeS0I5An8UHFDRh3oKzInFqLKN3iH7acKtST\n",
       "SstBccB0Ot9UtUX6znmxjHJdTl+yYM7BaL7Cc8vTsQZ5Y5136R0BHUnlZreS5W8IiH3fC+JyXWqC\n",
       "i45DiaQBL8k6ZCRFGYPruoqjqPKn+7yVJ/SCJeSoPSckFDIhZhGBwQFAO8Nk1v9JPNEWK7dGgXUu\n",
       "r+xSSyvkDQfL/YtuXpgenv1vATdtZaC8f7QcYZmY+Jsc+r7FOdCVxXX+lWy9wUYH8Q7NRrSxBKR1\n",
       "s7aNiYL9OMmvP8UAXXZQ1Oe5643lYDJMAbaqHN3RD9fZkKxzkp+brxvzzXQkt5h33z5wUoTLzVb6\n",
       "4ko9IjVPwAAAAPhBnspFFSw7/wAIQ5RwlZs4rcAEypSdWrxfUDAb2f5bOzS7bEtkIILF6u8HUwAW\n",
       "AhQfybDEKlQLdFCOkIPgH0YOXQl92fGxQaIaKuNjPFB1ZjyLL/MluEPyJOvECfJ5fCIVvVESaWRp\n",
       "YJ3K18p3Zo5ArFXfRjD5b46fShQ6/D71JdM2cugi2KCkSPJG/zddMefAc4iwwNgXfpjL2B/l7WnQ\n",
       "rPljRNheeWFtAOybT05Fd/7YAryU9h3t55OwQVcuSiDZ6HfewGroQMH43u4I+YByBGpaupEv6hGI\n",
       "8E9O00DQLAtV15KebQiqZ8KGazwShEB4Bkk2Z8JFFQAAAF0Bnul0Q38ADoH0Z1gjB8kjVzEhdZGt\n",
       "gbL8KCMAJKPfi2X3JNOz4zz1zOJ00cI7Jf0P7iASv7z5/Di/8IMvs6WdKnwB1L8HMZw+9j6/2rJk\n",
       "TLNj3m38/Y7YioT1NqAAAABFAZ7rakN/AA5/c0TsBqY3slvAfYCOx0uOKZPZN4ggpngu8GGx1Rpe\n",
       "s/jF4L0fkrn4w984RzOEAHvY1phLizNvWWJMonK2AAAEOkGa8EmoQWyZTAgj//61KoACMN1LAGlt\n",
       "WDCrSFH6fJuwxu8my9lOypYZpZzrvoGMCg0ijEwkx0DQeYlPYtGqU596Wylo9W7iGxgPwEcp60nl\n",
       "7lxaSl7q/GhaAA4C40YI6WPnJjRFoveBF6U3FiIOiVItr9b9Gf8U5tGziSHwu3cxle5eSq2mrOY1\n",
       "43OIC1QoMl6McBQTxWaStSddSVfm0LRp8AHSlwxkklIrkW+myabMxhz/MpKcoXvHEHFOcEN+cG0G\n",
       "gppRZQxWXmjSzRNkTTVVZzwLEqBZfuLHjM0sBYaxHFd3pUVQUesXe8C1OzzFfr/UwFRjHF4ANxB7\n",
       "S2xTFbwVLceKptBGB+sLwZBS2wIzOMMwQ5wGLWKVlTV4FapTVrDTsgXAD95iuN7Lu88eAy4A/d3a\n",
       "oAUYB7Khf+HkKAC1Mvl15aemXSVZjzjj3t6InmqvMuz3MKPzUUzEQpAlBiuzVzJmZszN2bYIYWaD\n",
       "VgrM6l2ArnuL+YcmySYPlHg9Cwhe3PU3y63cs5r/uSQOhom6vdPOqVZCP3H9UJr1fpkyU6oukmgM\n",
       "mnbzVPvM73wDgWAfoxUSrd+aa2V3oFpmuNYYa+o1QHEHaANf6NdfGX4S3ReSebXnsRfQF34TRNek\n",
       "TsyZFbvsGGI8hSs77xj82hdxD/dDFhlNxQt4aemwhddPM4MBrjRo6JB29rfhi1mVxl1FdFSQHMkQ\n",
       "i5ZBL3foCGiK6Z8y4VsLxYIiZdwQnIFVHmtUPVrunAwfXt3j+mwwbDmnQVxpC4H+SqwNFrvQXnWK\n",
       "/8RC8JXWegaFHPdKSAFzFBzkgsDWbTnlF++K9xeAiPY3a1f6jvxPRwHWZw/e0lh5YwDXOKxzb3Sk\n",
       "Iys66QFlkACAA7QC4VzsepacTd3TFuLONRZ8BmPrS6eQDUzNooWDnxjzcTp2wlNtvJq5eKbTMtbW\n",
       "gOykipLmHxFsGIJ4iUYDOIUxp+/rSETNaLrxieVQAY9tm6Gfxz3XopPKcF7NGI95KQKI6MrYS9Ty\n",
       "DQk1+0Z0RI6Ab+F+AtCSalx+GUrK+T2xeEIQnRjav1BWncnkRCDXf3SdWSmmsMoP5nrprGT4p0ab\n",
       "6kvc1+wXhjvircJuDTIJbZSiu+DP1hoCHclqhVR6dPdhGQG/O2RSdPsrUdoKD+WQZjmc26qagGzE\n",
       "0zHO8HncegBldrphlX/chiEeCzZekh+nePP727SNiBd15qMSHFW2vTW1NogBCT4XCK6L14xiHJXs\n",
       "xQRzlMLOh/bAobELHqVlpNF1rwfnZJFyBFywxyBsj9ogdGFVFwWW6tudG2YquTC26ra0+SliHEBi\n",
       "qDfPIiP54ytcP/mgAIi3iQ1C2uIl4G2wyDX8XsoO4fVJJILqLYsoNICjSo0gorW9FSd1Enzhf+Oe\n",
       "RPYI1N/h4eqf79RtswjgXsagdHzk0UyvG6C8q3jRK/EfAAAAnEGfDkUVLDv/AAhDlHvO+2OEu0Qh\n",
       "T2KdYuMl0gpniL/i0LwUiTBUSybm2ZXyAHAqnPf2e7Om5CotR4uGCIB+EfpFhE6utF0jreh9ckcS\n",
       "vtubfOTsBqSZY+asPqwaoeP7rixaEtMSC2Gc/8pjOOvzIcvjYuxmPv9HFUG2Z24In7KLnEwWq6eM\n",
       "KTFu3ltF+MJU28SV/FlGBSy99mT3WQAAAC8Bny10Q38ADEITNk/krB6TNYajqHR/1MWcAlDB0lGI\n",
       "Vf0lQEezOy2PAJg7OCi7QQAAAC4Bny9qQ38ADEAGF1MgZ/BRbpsf932DQjknQMtSsPhYsviRsy6l\n",
       "TQbzIpw2nkLqAAAD0kGbNEmoQWyZTAgj//61KoACu/4h4qeTd8W+gDq1EOtQOnFuYN64trR+VmT+\n",
       "qXaAgeJ2vtEV1TsnlA6fwyO2Kgx9L2s0zIE1cuIXhqMQjJy2ZN1eymSJbHbJvBff7r1+YlbLUzs/\n",
       "3f0hGwXUPULVu1WXiCRKmYoiwum1NA5Q/Nf4ZYKWcksOhn1/mJuLGxJA8wLu/p3ri4xzSQ9TbRYE\n",
       "jxkEeJQpAxVKop0LuxDDb00APcUKb8pGJCFBmb2YL/k9TxFgWtAhG5uhrfJVNHC7trsNOgy5cd02\n",
       "8SmP5K2pbqdeGSw83ORCf6BXb6inW8Wu/Kpl70J5hQADjBNJPUv8DqoiM2Rr0Cuzc/JBr+Ze01iP\n",
       "C4gU57kwwIVl6hJmeEGW4fP4JH46o7jOCWb07Zjn4b1biufrSEer35bbAu7FOAQ8/eqIVDWIhw+d\n",
       "RdnC7PN+YCLg9vpD5h+9zmV98lPiEId4uzkuRSypT1clwYygVHyGBESCwHhpamxK3HeQ6ZN7HRsM\n",
       "KPLtI4AXZsZRx6C4ywqKSRprexysz2ctLQtcLRpo3po/xXaNL+aArBXVCb2KSpnr84Jsm0caZcGF\n",
       "CfXPctD18pNv4ZKddyu56IQdFcS8cwVeFU3DAqh/wuNZM4puIGIhLhjqh982kreIYmqbcpW+HDIG\n",
       "sSIgHqDMomJ5cNN+4tpmDqXkslGl7qlwfMCfAqPKdh2xS+3h5EZsy/9QyFHEX/V7ECnLwh+dghdH\n",
       "7ZNIhMd9fMcHr//0GiWAKeQwbhp833/tNe9Fhbg3G//VcLLSIHbZMFmKpfB0KboRIFoRqcSOQuZv\n",
       "adSVf8ygU9vWS6xJsCXNhu8uofMon6WrUoem0u1PJAuUwsbQOHlJosnMr1oAaF0HI6kkb2l9mG7t\n",
       "qE85bBR5J29XmeeQtKykpA2uzcELNwD5yZlA5vmkbauB5LL8hGOWHpS1Dn6sOMyuZMsAn2IRvdOe\n",
       "UZfNnqqY509yFKZMbZt4++1jAieMgHfsbiAr95Yk0kYvmMSsNIdLpfji8AI1wQw1TSc+QvEgsMgr\n",
       "GLqXwncwS/L7ROnFnb+Thtab9kgGdluQBNmtxeO6o4yPWZ4gFCx42zY/rQmvDDLLf2F8fGCzENZC\n",
       "QRSiksUgf9w6/LbathlrhyhowtLxAhQ+1NEuWe2tg4P+U/yjvTP+mrHvDpuYPUjuZVLpYGbyuAQ8\n",
       "99GRQ71p8grt53f7hY+5xNZQ/hYp8ySi+b4fMuYjcjE8OmviFjQwHTk680LlIUj4KRX4m4w6KEGE\n",
       "EP/rxK8+zDeSEHK+pB8Mv2oLZl9pWwAAAFtBn1JFFSw7/wAFTVhCDvDo+VDaObhL/IjlD3ObBr+m\n",
       "XvePk6HcX4ASTHt1i5WaRdPvNdKG8VIGBvO4V9VrQF8IXoQKfWVedg3W49NnB2qjvLXIjJHj5Njb\n",
       "g+5BAAAALgGfcXRDfwAGSQmbRLMfhxctlVegfaS36LuL2qCdbYEahMiooJVYd5GlUMDOKOAAAAA0\n",
       "AZ9zakN/AAdsojHW3tyLd6xVIZwUABKqg3/YUbA1ALBr5Blxlodzi2AuiTlntF4zaCGB5wAAAqxB\n",
       "m3hJqEFsmUwII//+tSqAAVvOUSrHlAGsRrDxH3WljPwL3fWbDOErYhq2eRTVKliLaRGJ+YF5RCxr\n",
       "JhyZpHXm57wxs+bdflKakxYHSTuD2iKgAdFmqqrPN42EcA5Oj94H2WYGsyu+VoMbzpKqsin2HjxR\n",
       "l2HR2HJ0xg5cS1VzwI7oS5lHuToJ731oMZjT6VFSUVX2P9kWGUtuh8wzIerNPW1orJLyH6YJ69H5\n",
       "++1bVmubtSfyC79ykxFuKutvelRglDfiFKv/QDP42U+D8FenEZ8lIWRTAaZGWVDmQFpMkqHite8S\n",
       "SHpiuJXpLf82z69O6IfV79+W8CG9Wh9r7+yRK86B7A1kJf+Yyp6vcUhZioPaijlK45k1rSUHKIrd\n",
       "ZPJSVGaJrtzVUgI5nCfQFdLSp3r1tOo/1ERag/3ntZBQbyV65WhAXLSD5Vqp6aCMjpdeDjRy+3k+\n",
       "zwoX4ySZdLCPeEgVez9o98w+3DwJQn8GMB7ynDQwf9ES5npS+8Jh6eKUOJRYpA71fcmzEi8qv4TR\n",
       "CNYZ+iQgvfChy1d848HNydnj3QTfV75gNzD1hhtE+tkMoAPUuP0WmnwPIiwT53sfgmykEV7n16/Y\n",
       "BKbq1jkmb+M9SzR5T0ihwRBfZNXY7Ax+plbv1Ac6F0ip/g2Wta/oPq7ywMioEoPHReVHdyhayo67\n",
       "udWM27lL5L6NfFPQMFVIg434sYgubtz2XByPTKk0skjEqd2wcr7h4X5xL4xCSrZgEi3an/HeeJ4M\n",
       "89LrAH8gknesOxXV7EWPvZ6kj6ZkfzmGxSVm31RGQ+o7AgaZZfggtcJ+zoEdjnNZXUO3RMTFW3KL\n",
       "e4A9TkEsAPZlHo+IGnk8bb4LP1hwmS1jJEUgfAMXtROZjckmwpd88qa1vSqJgVvusRFaIGM4yCEA\n",
       "AABSQZ+WRRUsO/8ABU1Xr1kWX/daymLvOz3b7sCeAKm6PvAx8HUofXYAS1S6Tqjz9N/7ouzBHft0\n",
       "0ndCK0Zhfbbwaz6AhefWR0nWpwnVH5nAZ32LQAAAACYBn7V0Q38AA+GnkgZYbUMLjPm0O/eJuyD/\n",
       "8u94A3CVZ/bB5k/zgQAAACIBn7dqQ38AB1YgjB0Vt/aQOxdXVbU2VFH7Z9xvm61xiDJhAAACU0Gb\n",
       "vEmoQWyZTAgj//61KoABXCoJ9QC1GbL5JbUYMXMx/eoPM92h5+sn6bvOEeHI9O3ZdSXx5nqTJngJ\n",
       "T2CVhYSzvRT6LWblfin6ML68Yorkc6KwQxLH/zRnjWQHHmw6uOpey1OTgjqPsNXMFOydRUWXetXV\n",
       "GNaSho33tk7IhJdw08fM3pGrxKHN0OWpQj0zQdQgJto1MzlALZIIyJ5GFApmbKvJ1EXav9r0wH+Q\n",
       "V1UteN+ee+MsAQhQ8p4ImS9PDIhyUS8hult/pvSWLNVJi8Dt6ScJkeEtmV9IK59Jbg5DolpTtEZX\n",
       "kAxgDXOS4+q45Z2iRxYnEsJ7XMmHAsi2LNd9zPp1u7nd9JI43S8Xzxp1fsMye7cYJ5x+V0aHATPl\n",
       "a00GiWz/CYhCDvWJjvgfT1wiQz11RIErr4/SXoP3th5luns2qk2E/6mBAkVUPs8I9EgZcKjqBEYb\n",
       "gOTUKW3Kucct9qxTuSD7h0a8Gj9iv1R9vKAm1qhwn7CUDp76RVCVDnmnMvoJKde1Vh8WNxJcMvq7\n",
       "71wSZSVcXukH/6uF/BJehprovzx3q8I/eYup6/j6B43noBiIq+BQAXQFrUxXO2tNvpTnatU3fLGm\n",
       "LgdIbUXruD/qLI4vUj/ZFd6V0jIPPLhNq5MuccnYutGgBahMF5+3pmIFuKFg9I5unrCIC3iuEamF\n",
       "lVZIKNlFS/mm9rHt6cqkYk6D9WmxSpBDeoXezEV9TYL/tmMH5i/SUtqcARoHdy3ePJpK3GnCG30w\n",
       "2KXHtc2YplqmA2+r5Vg+BGMaKjBSi4AAAABIQZ/aRRUsO/8ABGHJNxSNVzsuN5m2PcPklEI1wg85\n",
       "eunpovEvKyDvSCqXqlq8MnM0X5EVDK8JdAykAHFCsvRpI/qOAkPUiczVAAAAIgGf+XRDfwAGR6qm\n",
       "JFq5rz8txctYSBsZNE3xtguQdtfkSrIAAAApAZ/7akN/AAPiURIK2BCBVFEeGnm0IfWUXaVHKuwH\n",
       "MTgqZZg09AH4L4kAAAIRQZvgSahBbJlMCCP//rUqgAEYbYkAR0++F38NcJou+CkT1DuLAYhqKxHd\n",
       "NqQ0afWqOkmSCTd5baeAbmPQEPKau6nI1FRNmek0FTFssuYzzvsQpQTP7dbcB4LK5elzo7s3k8RY\n",
       "Xr1Z2Y5V97SvrYkdd5Hvo0DTt8iUVSiu+pd3l7vhKF4UFlo/eV4yD1dI0PbzUxSiXt+I73b/JF/w\n",
       "331KI+77jeZ0fgZi9f4W1/9WrTm/6Q/c+8yNGIlCBOLJnf7hykO/zkyvrSff+TNsBZ5lWtu9ptet\n",
       "Bc1B32zwdJVUEgMU735FqvFEgL607UsUSZO/faN68maR7COw3cAmgBLF7cCituc40HQ8hglnVsbg\n",
       "VG0Oedyae97WMqrydl1bo9DdBypaD4TdNKV4DV6HiwJw+bYO6emSCx+sLzAKlBq63efjzi9o+X56\n",
       "HVeI9Csw2ssOnTcyKC2bw7IgMWLDsjgJpX3MxaBosJx8sYjmeCpxPjmZeWxBMvr+b4Zae5Yn9OtX\n",
       "Giw/sF0cdJAZre/fgBl7zTkM2Qm7nK6Os5cd86h7zONjOjPIh23HRlcPqZDS4AlX23bqOcx4Vegu\n",
       "WU7PvJSWpFwjj1iAIgqoGOilVJI8fS1hgDyXi7R4tYi5jN2iKNWAbKUe439IYmTewuAiwhOpduAy\n",
       "cPS63SSuX66XoOQfCH9LdXDy2/PbkmiOTDUngVALuwAAADJBnh5FFSw7/wACyuGPM7xegNyLT7Rn\n",
       "nj1jAuJTgEQeQxBxzB6pLtYeI9kKwO3SgpoywAAAACYBnj10Q38AA+Gn2I8ElswnR8qTx8tK4hiz\n",
       "dLnH67aW+46RDhIdsAAAAB8Bnj9qQ38AA+JREgrXfk6vu7OzQOQ6SOzWSueFtCAhAAACWkGaJEmo\n",
       "QWyZTAgj//61KoABZSgGgAvtLRUNXesWTvdggR2egCG/K3kc12QK/pdt6mpyleEYDe7NFbqn6D3L\n",
       "rPKOYdvzqW6yMb494e5qzU0uyhzm/fC7xZtYz7VGxE63AblzX90TVd8VwSDR9ByjH5s2QrvhODBg\n",
       "J59B9m5YhKuJXh1C0mGMYNGgC+YAIw/DNc+eq/wXkzHWkz08UoBDBWZZ8iCKwW+W5B5ieVziRffq\n",
       "S6zWwRP+93D0KAwBbevLLjRLtx6shPs/mi81nu8Xx4wt8LfuPrm9Q0XW4or2KGRGA9FucMNDYl4z\n",
       "wZRvvNkWkyMtODDH8h8aN46mnHxpZ2MlEnIXzFX+bq9TpYZOcHJJMmeJd9nKklVDxSHgOtwseK0f\n",
       "u+tU0G2dQUWnC1brlJJH9uCVVbgW5b+e5NQUY7lDYfwIrLx6uoA6KpQU4jv8suEfuvaxdjr2BMKt\n",
       "srps+ZF/+Zr2VREoru6NanMZ53eLbkTgSUMta8UmY7gvW7/m1KEA0UCv9T9lM/+DRU8c2VoKgAN7\n",
       "L+JVy22lZHhUGsQQgSte6kOFnaEodIVF9GNUeHjG85/sj0tf6sMm+lJSNBokt18Mk41L+66ridAI\n",
       "/j3sO5LcqI4EvPoQfcLg2+AWKJd/J5bFOSrQO9m9YudrVtX7+XCWOxHPc4jnqrMLJz05sIVwAaQN\n",
       "i7iCEl3pFWRRygsBeC/E1wjON9fLXIKuN5cawNIVTVFpyEjVJJLGzy7vnBoH+gu34EKV2h2PGroo\n",
       "ZmbZiVHcyr5ptOQc4E7r89DpUE0sQRz0b6fAAAAAMUGeQkUVLDv/AAVxWDzO8Ox5RK8qle8/4Ln4\n",
       "QI5jlX7ckWV4G8qm4m+qXUPt47qc1jUAAAAiAZ5hdEN/AAZHqqYkWrmvPy3Fy1hG0SKFU4kmnfgF\n",
       "AoQr4AAAACMBnmNqQ38AB5e4W7N0a/hNwCZJWC2MImL+oQX2PGk/70kOmQAAAZFBmmhJqEFsmUwI\n",
       "I//+tSqAAWUmr0ArBmM1yuKfpsW73zCJ8EWsW7Dj8RYrZ5FNNpKQ+Ff6TIciYWUfYOii5B8TsTu6\n",
       "+mOgQLefyWsML2erA/MjZs5iO+K9a278dU8BFkno+3xeEMtYMm35qtQEckPUH4CJXZ4PBOGe+bgl\n",
       "H64eA6fSlw0WQ0oqTK0/jR8Pd6h1Dn2HA8+QUlDcWuLvHIeBmiLqtazOK53FjPHaLNonOciwPzjb\n",
       "EexCj9M0Bm3QF2DJFFKx1uOJixRaoOyqV839KJ4Ll5sqsbtTm8Gt/XNbdgginazozS6O99J7T6xl\n",
       "Uhl5plgyI3WiUI0eMQXXomB2sOf23QT6VaPfClOrpqj9XWuXUPeLxnmuP6jHpezECT95MssvBWC9\n",
       "yvA+OXKABF7Yv8E0JAjSYWIzNnPhlEe4MzEIifhuXNPcF+ZjTQKWM9fKrzF82JsQBHTS0krUWqbS\n",
       "jCer22Aw+149gzAXMshl/ZDj+Z+a/fQ8aG03+fhrED37LO16pMxK5j2frJ5LDWuXgQAAADhBnoZF\n",
       "FSw7/wACyuGL8q06+m4kQ9kuoc0+gPqe5deGygAFil3qRXymjmLm65yN1TJ2am9RRJWHGQAAACYB\n",
       "nqV0Q38AA+GnkgZYbUKnixAgcDsaYlawbGriNJkKE4vQQgAp+QAAACQBnqdqQ38AA+JREgrXfk6v\n",
       "vJPzcTOK7znfIl3Ao9iKJakWm+EAAAIeQZqsSahBbJlMCCP//rUqgAFb2MFj5TgEI+jukKCh4VRx\n",
       "zUAFlcBQMLN7Ctw8CxlZV9QdpyAnBxt7eG81TADs3ZJY087S7r/zf7yADrjpLRZ+QmBDz7ja5nH8\n",
       "lpS4ePxxatchIKfnWF6td7RgegT559RpuSl7DRg/pppJUGq2Zjg6jqxNmzBRto4E2Prd0iIwIIdx\n",
       "ddZUPkk6Ddt3Kvem81xtTUZ+wUIJ8lDiD5tloUPHCLnUNhdmFITqWClWs7xHNW2BvvDC5dScjNGq\n",
       "ogNrvGV5XMzF+IzGcRt9RKNSJucrn2Ey3xUtEoctV+oCgehm6bgFPRh8JAlj4tqFbQtYPkmjQZeD\n",
       "Gd0kQTlUUwvlmhHcxKH0Tm8mfbcDUYFUIjd5JJmleOYBRi6/uyDIvAT5IByI9iDmYNPYKKnGL3HB\n",
       "W3atRoQ7JZLW+K+9OhP0Wpy+e11DyHJDpVJBIedbI9z4N154b+Fd0Z1VSIjNJSAxO9x5rOP6N9cW\n",
       "tIPnGMjMjPwHwpEHjE/BLrNSb3cemyN+QDcGErvzElD1SCZxnYy1oUj3iKAR4JezmLYJMkTfgvlh\n",
       "sbnVABG3p09CqUsCL2tozrDAHyrNQDzzPMkQxijM5wXwQyhGHZsFPWbJ4XcnQRtP9jiXEx0gtHAl\n",
       "TcpdnVqiyt/v7LuRz1NAVn4yr9sHNVyjbT3GwUYm8c6MXQd6vxW88SQCkpGilHbWUfH4soAAAAAy\n",
       "QZ7KRRUsO/8ABU1Xr2qkK7b1Qdvj0oz8Pn5BDxsLAuhkwQM8GBsk1pTNTpLSHIbVRMEAAAAfAZ7p\n",
       "dEN/AAPhp5IGWG1CYZ757OEP7PGpecITJzUsTgAAACQBnutqQ38AB2u1h8xwITS1yAGdt9bY/DhA\n",
       "UT/eMYAc1Tb9ycAAAAFaQZrwSahBbJlMCCP//rUqgAFmmwNgcAavPSFJvwhAF5ZKypnov4HQyWfU\n",
       "nyUUbt93vlhz+hDpbo6L8q1VFFbEE+CF8bHPa1TzUWX4ErUv5eENjKwVz2fXevtH9D7tZQxvNI2X\n",
       "OTKDWHSJxsrhGymQJX9Fo8HA4f+0qqCc/q9zUeTKgZ4il7f2Sflq6oLcd9ku9SDmDLeWBjoa6M+3\n",
       "IwCxTDCxZMK3loTDGxPUqSPNUPJJ9Wz/9KUbe0uW7p8R7izM3VW8g8EtfyFqZM6y0SVFU5Q7daQN\n",
       "XloA8yzI1hnzTZj2WEUB5oJhEyKRopuHRgIDSw2DEZVaHL3j/hQ8CWwlBcpSMd3Vy6b86ZJ/8SYz\n",
       "lmEmYcCPMnwCjhypKgjn76+h1wfXtNVnsOp074V6fIFig+EM4O668YsdWRyvQ/WsjNZDl0wm7MHF\n",
       "XCz9n34sjuZcbBPfO+kbpNQNgQAAACpBnw5FFSw7/wAFcMU4So1q43HPnFoxj7vVaNfPJ6F2vlw/\n",
       "XvLASEWQb0EAAAAeAZ8tdEN/AAeXTaYSmy+kyfW/kTT+1CJCkW2m7R+vAAAAHwGfL2pDfwAD4lES\n",
       "Ctd+TtYBKQBu6Gndf/xQ1suQYkAAAAJeQZs0SahBbJlMCCP//rUqgAFcMQKdQCnFtJ9/H9ztFLvM\n",
       "r7ek5U5Sj9xFbL07Ocww/d1/znYDyWGubIRH5h5YUUwq0QClyyb/1x0XCPaQbpani9nNrqlbY3jp\n",
       "J/JjQ91fvqwS1zNQCn2KW8ggT5twKJwgB8DCofu2AJ+mVd4EK9OtAIjJc8S4krLT3ruMG+fCflJP\n",
       "Yf5z5/klyg3RwixZYQ2++oKa4+kJYpjUv9MHXPbbjI3PLbWkwERafDaKP5xthfkn2lg96JAlwMQD\n",
       "qSjEQoHbGgY7+B0QAkfsKISLCRAfI3dudln6OVLeBep/vOsoKzj+sh5qgwpqOG8l68PnGPqBWm+l\n",
       "zcyyEwcqcK15YnrOE93h9uF3vZGN8jTjfug/JL15wQovLVFHMSA6LsdtOvpotE0d2vBtA0x4GIkp\n",
       "vqGkDW7JUCgNKO/JY+6dJfLi1KRirIMVQNutOTf5aVEclFxIPQeNjTlzzLv2gg1+WDbKBX7xpBjX\n",
       "A65Xw0nK45c4Mx1qjnqPjmrPvR57atzCIMgstNa6pHsKFSpVoP8zOX33oztQvCXTSH5dY/khDpa9\n",
       "Sr8XwFVgf1BppyUBuFEEODny1rMOZSeHG9tzF/Qb3oH4+IeTItYJKOmnMq6BC9M+m2QFZIh1wzbO\n",
       "XAoIxSd2XlZ3n11KM1R2C/Ax+NdFg01L1Iu39uAX47aj3Je/266TMfxB2d78ILqOugNAVsoHgeXq\n",
       "aZ46ioEYYLKdcpGA1vjFBhZSSZPtDzGQ4hR02k4Ui/CoHC42TA+WA62YGLBvKY3lJKYZwkKfLTuw\n",
       "2x2AAAAAMEGfUkUVLDv/AALK4Ze+Cxzww9Fn0ao1fkygPuPIW5d8L0JFKrt3L9cpF2D/TGjgqQAA\n",
       "ABwBn3F0Q38AA+GnkgZYbUJhpVdBz7k4Djn8KHYpAAAAJQGfc2pDfwAD4lGYQ8mA5wOPxdOqmB8Z\n",
       "shnWrDm4kebQ3VWi0UEAAAIFQZt4SahBbJlMCCP//rUqgAEYbcQAEzcLSobd5jmS0xpwagIRXBIQ\n",
       "RptyZWnnBbb42726t8lXVgNDOOSoIMZDeZzMAMc/LkQ5++e4cHXVrt1HUk/23sAYmiSH/xkgWvHd\n",
       "49yQNq0ZcskYCEISds3Hahf5aM22BBZAmepkp6i5b3y3F3QX2pdKkOCbfSvpnIveZSqR9UFH0SIA\n",
       "b5dDIdMzS9/WvC8YTTmhdlnLOyT/oy9ubulTsZbVCgzbfWEst8M+7lvku3/36jvroOBW5yEedocu\n",
       "59xtpsnDq6hIWp/FFiDJU2bxrFa8gdESQAGog/tU+d+AauY2J1tjfRUkWGYPNlmt53qhhgB3mSAX\n",
       "F1L5IFGzN3MqcjV4MWyjGuJWxCQfospAqX/iJZoVzRyLFq7Qo+sqh/scfqVFR5qtujigbCRA64DM\n",
       "s9mppK5g/mUygVrlB2umZ7seNeYwfqVCZJ29DKNaEo40gB3CqCRsGTAWiQjdn+O4ff90bvuqPu+K\n",
       "oCvrYVa34t3APFReCOLofnasbKB94QC/b9sZ8tF1r/+vphz1L5/Q6sHl58+Na0Tw59N7F/VufgP4\n",
       "fb/bN2OMBbk5v5SI3e8ZlSis9bxiuypoBHjHYsWfiQuiUhatJnVYIYqrYzBLrPz041ZgOsBZvRMe\n",
       "Dv27bY4pStvi2lwup34ymcNouZuZuQAAADFBn5ZFFSw7/wACyuGL8q06+m4kQ9ksDJ4mWVqII6ge\n",
       "pXAnOXCW2Fgytp7VnwpjhlhAAAAAIAGftXRDfwAD4aeSBlhtQmGfba4k6Q9To7Nw+5uBCqE3AAAA\n",
       "JAGft2pDfwAD4lESCtd+Tq+7KVqDdKYOmD1xSm74uYyZBThGwQAAAhVBm7xJqEFsmUwII//+tSqA\n",
       "AVvYvvFYQC13nyhDzShkJLONwIDzwRF2psruv17jb/2nKLRnPLjOv7QMilNs88UNocemrFnpyU6P\n",
       "nC8J7ijNvULBe7toK5TrLfaxEKOLa4mrnpb7z0UXWqGHpDQH7YV4wobrXjpJBmBFi1Cyg2Vj4NbX\n",
       "9neZ48e5ktCQg7JBME5zupLdklxrE4IqF2IIK+nVtyqBrBqjyG1x4LNiVfakACAzsf8QDwhD0xrC\n",
       "7t6oP580eAoKst09xqJYUpsaV83Yt/tZKZSxesn3836o/qlcZyQtBbC/Ld6koxS7hXiDyNNay4o8\n",
       "l4Fh4A5OTbvZBhVq2uxkfePNGi+0yBwneQkPSs1aDj/GXYWO1oNg2G8bGhnDlsqHhPIJAs9vexYH\n",
       "eMnHoKDyr21k1FqO0e3xZHxnqKfXstqQqE5UDRfRaVkOT/xdCkcDWtLJNHnDghwE1Y2Qu9mcbwLC\n",
       "NpZNDSPTPC6dS9XC1DYs2zLbWfaqIVNm+uoP8PWQBtTbHhGJMYK1uWBjbu8UtcxG4LV4pZ5JloBU\n",
       "80YP13nYxGQib9d8WjTbPEEffMbP4eCJoDvLtvDpLE/0iABhkTScbzq8BxcW5AoKLFKcRgl0R5wb\n",
       "deD2x4b1ik22NGXv2/q/Hce018jDDxr8nXykYk0D6FytTS63sAZqKjYe8R5RWUB/PJdQswaXVQpC\n",
       "U4sougAAADNBn9pFFSw7/wAFTVevauNy7FRa5ic0CMOSiOjfUscgvgya8MTZ8VY94Dc5BO1fJvFJ\n",
       "uiMAAAAiAZ/5dEN/AAZHqqYkWrmvPy3Fy1jSmRbOHAkzN3ZBnBHingAAACIBn/tqQ38AB2yhAjIB\n",
       "4Qt0ltA+0afLwyblZNUkdzaAYIZVAAACrUGb4EmoQWyZTAgj//61KoABUyavQCqmTxVYyiXg08q6\n",
       "K5L6jNxy6JwcP8Ms685c1PqLWs5hHHTL/oSHgNZaJBxap/zkDewIAA/GR8GUazGKccWCss191y/a\n",
       "xS8OJqf7+nupu+xibuF0LBzBcP/4VUU8z9hV+HQbcYTzdtim/RwaUpI7X1sV+6xKaGjiP5x8K6bQ\n",
       "RR512cnHHFepr48X6zzPuUWmxF7yv9Ff3LJJ04Vu1dopoxuZRquKalxS4bI98Gcou+Pq+Bd8fGCZ\n",
       "7xP+A0MUCTWY82X903yTYJTJzCpM0OanRMwxY2P2HnG36k7ESWesKcFwAtdu3zlmEeXZqjw536tw\n",
       "vmZ9dKb7AEq6NXyHRmQrzYaAvYSwWarPXAZd3TBC1XFzMSeQc58XNWlY0JrgwHU52nZ2bQxtwCQr\n",
       "qGKpC2bjMNSWbP6WQL/b1TE4iP7XZqq4/TUKOMDBwthfYqNcxXUoKpY24vEJpv7OGi4m6Vez/pm5\n",
       "GKZ8NglhkcPFfkD/aH8J8GtDTrxNcmzrq9O/+xYlBFAaLmxCJcTLaNM/wlAOZkje3O0StfQD+9j9\n",
       "wC7S4074Ml3KRZG+yiRT7hphyrAT76dn7c1Q+6bYbABp9My8jig2P8WqE7KtyIiWFgdarKMlcKio\n",
       "AG6yHkPZ26xGR0GDMDhq3JsVIswb2WQ7yzt05RHOXtTxj7J2fHY8+8jmwkpvaI3Zi6GEaqn9J0hl\n",
       "6eYGTw0m5S25iTV2lewCwxcKb87qI3d8EqF3u0EaIwYWSMw6T5e8t5LkQFjUcKzE7SAY9aDRRNKq\n",
       "gilqU+T0FcnqS4rqE+9DQoy9Xa5Bs46DJBnlIhu/oDiyhWb+9tC0WvZtzbD+3h9t31Ee4IQSOAbe\n",
       "JieLiZWVCzqrqhnsYLYrbC40M/RluR+fd2EAAABHQZ4eRRUsO/8AAsrhi/KtUDAwFcrnOhle8jcg\n",
       "Z1hzLsCBCHh48ugkAWCrxULgwvkD2YK0AllitwnQGh2hPsQYuFdI0ch454AAAAAiAZ49dEN/AAPh\n",
       "p5IGWG1CYYeNkaEIGg2sgmrilPRiXsUvOAAAACYBnj9qQ38AA+JRFArcXmBtRjf1BHibM2RRumDo\n",
       "gjp+qGaMDP5m9wAAAJZBmiRJqEFsmUwII//+tSqAABOfqwD46Qv9iwDxyZguhs1l1nLL8PoidC2p\n",
       "1/RI/vHQQJtTYhkweOEEEzc0LWY35AOBaS1qBfh5Wkerk4M2vRExXiSDmnkPXyLpDUy3fnogF6Hl\n",
       "4NuAGG2/z+QOOes/C1m1DnurFH3gsNPvgwzs4c3Ej9lYytUpPmQvwAV9M8dP+EVM4qgAAAAtQZ5C\n",
       "RRUsO/8AAsrhi/KtOvpuJEPZLCxYS5XXIoxwme8tEMPfLxBrJDnbUzzZAAAAHQGeYXRDfwAD4aeS\n",
       "BlhtQmGkN2MWOxdyTif9vTfAAAAAGgGeY2pDfwAD4lESCtd+TrrsHwogeLRDWg6hAAABh0GaaEmo\n",
       "QWyZTAgj//61KoABIanfqUAK3vFlStc7nJbCN3kDEJOLiigYA8Afd2ZChAFDNL7F6Qqf7OWL6VN3\n",
       "zDHbotpfJVyQ/Y7V63pJShDeIC0vQ1kLqZGYisFQGFnLDMjAkeCBiUWPOTMEodB+NWI8TbHkmFQE\n",
       "wuXh1qCv5B/rlT/9q64FWlKPQG0ExxZ5Y/99c/LqMgP5+zL0yxiuTiqG+H+zPAEJoxVfdlNBFV1P\n",
       "QFKruxQGfh9ygL106I5SQqHPpLEdJB2fpLawrRPeaZb4i4uNCyTfSapIl3qlmOFyo3yl5eevj7pd\n",
       "WGJcQOlhwb65mQQX972zgcvB34DwGaCDUQ85m7SlFejc95FxqAdHOF6pJ35ZIgXvXqWNHtR7Zde0\n",
       "RjTE92WbCGsSA+5XXwtbpy6WmZWFtnYyrqp/DOsofBvkXZv+1nBiXlttMK/j/qZAUqdOwyFbg7Tf\n",
       "xR+xYQ7BxIMMfmYSeFhV2Qu3yeyKlDpofB6oiR2ej98Gedfn8k2EaXtksYEAAAAxQZ6GRRUsO/8A\n",
       "BGI/r10jVgF8NGD7Ptync4240b/7sBVouqkHeYTh2hRddGIDqIiTUQAAAB0BnqV0Q38AA+GnkgZN\n",
       "Sr2ip1QTTmzEzELcyk13gQAAACMBnqdqQ38ABki6TJI/Dja8ccSsJZLxPqAXGZZlREjhAIUG7AAA\n",
       "AUVBmqxJqEFsmUwII//+tSqAAjDdSwA4PyvoRpnz1TM0ecC9ylVn2F0JMh+1e3UN+hB5pwAgGhmD\n",
       "1I7zY1sygsK5XOx+7jM3W/uUO2TFAHQqGvvdfHCxBcclbfkQMG1cumCUfb9IoO+EKZxPws+05Tgt\n",
       "YnvgWgBfiLy3h4ToHDYue1HmR9zE0zZMd/nbtKOyXJFTVVvfyLd4wvF3jMx4LbFuPdLHpXewc1Jc\n",
       "ZaUyGsWwOzAz3dATqREUAJwOslKxTalNOl8X4cnzUJIVVIp1JwLE0Gl8B1/PgtGjHUQGF10t9fTI\n",
       "lgS2duAKE1/fmfUWmdRb3pKNq3wz/A4/eH4K1WDncsDxB5daW3jnA0iGsaIEsbu/h6OYvIOiBIAe\n",
       "2DXDdH5QzYp7r7t0J9Bt/zR+cxpyhYNrBeISQMKyoyR9z0leEqPRT3yAAAAALEGeykUVLDv/AAiE\n",
       "f16t5RE+X1ccqspvXaJcSK0KN37G1Z8RzBnzhP3iHkbBAAAAGQGe6XRDfwAD4aeSBlhtQniLthRq\n",
       "4nOArVUAAAAiAZ7rakN/AAxAAombx5n5dh1zElsiypC2pdPstPExISzHKAAAAUJBmvBJqEFsmUwI\n",
       "I//+tSqAABqNfpABYF7EdyxOED01pqhn9jQSejp20pN1uFm2IbFmksMErTXxsQrlZhUPCVOIRQVM\n",
       "8Rjuhj/msO8q6SjoE66KZR0SkG4psVZ2G2vxRN2eKR4zGW3iVLVDJ/S1xtBwugkB47Y5Ites3+wT\n",
       "mdRSV0fRe1qUvunXa19FLrwT5nmNGCGNBv3B9TmgpYat2p3zJK9SVIzm7EEvReQF2YYtJsQjn5f1\n",
       "gThRUlXd9h9yc+DCWdtz5sKTTg+zpa9AJhL4uuiKkMXuu1VuqFv6WfRnCKthHbRxzHofbbgTMDJW\n",
       "pGL9FIY2q0LRke6uhIqULM52zB9sOBzxl4qy84fmY8QADIpXnpZpvya52bXgrkkrhOwaqcoScdsR\n",
       "xwhgPaYXm41gOw0991WRa3AYINmfbnDipunDAAAALkGfDkUVLDv/AALK4YvyrTr6biRD2SzwEpEA\n",
       "H6onwBd6ZM9MkMkHoaaNlSU0qYEAAAAgAZ8tdEN/AAPhp5IGWG1CeTLXyLvfDk0UFzlBwn+7CIEA\n",
       "AAAcAZ8vakN/AAPiURIK135OvkPTqQPUxeN9fajVzgAAAbRBmzRJqEFsmUwII//+tSqAAVvYvYMe\n",
       "UAOLksllY19JTi500+yW9mAan2hq+2Ex66mpZRvTu5e8u5Vg4+OOqYQ0rJ+dF1e6wkwZvjb3xtBy\n",
       "dXF0xzSowxXpzgCg31rRCXXblXXwFZv67JbNIqQ4y8FF0ZtMYuaRsN+JahIiFOWI/lwpZi9EerB7\n",
       "XUpabagL0heiuhQgGcV0TBFvpxUmh3lea+vzn3J+5SBJtNql+IastRCv6YsvKoZ/+JFiTnL7IKyr\n",
       "/TW1OpPwl3JwS+qoQN12AWbs+hKRwg58o+kf9sOgFzx2z5iyV46WKw27XXG655ZCQ2PGs0R1e9L4\n",
       "WQRI7DUx/ON29IoBmVm0A5oMRN6KtfMauxiVZQsxen7kh77SVN5OjTA0dgq0rNTQDXzkP3K3DyOO\n",
       "+xUdWCZn0N9pzhqj6Xt1QMrlpzX1TIgzD668rMWeef8YB8whooarOYIFJQwOvr18Bi75gEBz9UDc\n",
       "Uxj96HXCGM1VhikJ21XPixL236XHlnyHR7jq7hC887xaE1r5aC1CqiqI/u8pU81hcKFhs0xUOSkw\n",
       "E/BF+rh5QhY3GTnKpkfAAAAAMUGfUkUVLDv/AAVMxThNTV5HGNSzV3huwcVMf5hKA7H6M2QjPMMb\n",
       "plTScRA8NTXqmeEAAAAnAZ9xdEN/AAdrTaYUOxDL09yuBUb1woRL5rjEkKh13Z/lh+QNnJiAAAAA\n",
       "HQGfc2pDfwAD4lESCtd+TrrsIL5LXvSgDyqd6d21AAAAmEGbeEmoQWyZTAgj//61KoAAVPf0hABB\n",
       "Q9YnpdfN/4eNuhR7xty2uefSN0Nj0MMGn8IGO3Bm3vIQ1LPQH/kORvy1gb2A/bDbssECTsG1mkH4\n",
       "7yW5OkFghp+VvZvqrq1+eK/k5iB2xnQTvKryhl11S9vhVVkRs3yTtIJznSaYaCLiko0bWzSaGDgF\n",
       "lGTGkBYeyGdn7P8UlSXBAAAALUGflkUVLDv/AALK4YvyrVUF1SneL/xlAHET5zGMFBTuzuSxN48J\n",
       "0WwPmkJdQAAAACABn7V0Q38AA+GnkgZYbT7SSy+K3CoKD0G4OMZFEI4HdQAAAB8Bn7dqQ38AA+JR\n",
       "FArRye81jF6wfoMuOmTZQhePqKM1AAABYUGbvEmoQWyZTAgh//6qVQACQD3pR1/yLADXn/EMIYtQ\n",
       "9waPS5pj5bLCsNyDRCESrWZG3uCNzQ2+Rp3QirADIKGSeajhNvbDg7wobd4VfeC3VoNqiHsmQ7Dp\n",
       "DSgZE5hcsAkDc5W2Pnbqt4V8LssXWXH6f8hWFcEG/EMbXnEu6ukkZLKJs0Xna+ihK8jtR7SPFZlS\n",
       "scyfFoX5TMbf77RpnCb3F1sMVrgr2tEc0mSAhxl6a83OCbjbBDi7+vGPkt/Bh9HibiyT9yj8Z8+1\n",
       "ogK51ZIIU29vGQgyOPxE+ERi28xZqpUnWTlm+FotDiGNJ1r04yiPawjeDl548rMP9gFIHC05N6yW\n",
       "naZX++F6TNS7pzsZcXE/djD93j/AJjN8t3ItWmraurbdYyXLzdWLb4KlPB0d5ZrAhmxDQgWUk3Az\n",
       "ksdqpfLiqxdDku+a5RYwnb8f/ha1CSsbOYu+NOSTbCsAtdrMAAAAPEGf2kUVLDv/AARhyTcUjVc7\n",
       "LjeZtjsg32r6k27s9qQ3obQAIJ6uc4Pz9ExvDwTem9gua6VLtEhFmSE6YQAAADMBn/l0Q38ABkeq\n",
       "piRaua8/LcXLWNN/j6lrgNj1ElW4L71BLPGLGzHjqClvvnpsuBnJBggAAAAwAZ/7akN/AAPiURIK\n",
       "135O1dhvRL+XvcMOrcF96hJB5iULHUFLwztR4oohJzadxW2BAAAAaEGb4EmoQWyZTAh///6plgAI\n",
       "gIcW3WNGgA3OW0nMwSNVeBD9GwKqdbYWq3fWMH+cLELkWT5aoCVL3Olk7XGsT2BgQIhczCXJfiyx\n",
       "lT4pyGKw1kmeuWPYI4g0t3Z/xyhzmo68x3llCnE1AAAAN0GeHkUVLDv/AARByj4bVsp+LreYAd4W\n",
       "A9Y4Fy/zaVbwikbmgJwtAwTsuAPAhAZSjQfpW3F4MEAAAAAgAZ49dEN/AAYhCvQMbp7rm3O5fWmj\n",
       "XE9X37e4iEKxut4AAAAcAZ4/akN/AAPiURIK135Ouuwgvkte8NSVMeFXOQAAAFpBmiNJqEFsmUwI\n",
       "b//+p4QAFaQsHIAFoX/6lsjCELOxN61D5/UBf3WkFdeY2EgWVLrR3MFeG7EBsyIOX+hgbd4a4Yht\n",
       "6T4x6JxVVCxzYr/GLRKbmEIAH3M7aTAAAAApQZ5CQhv/AAeXuFvWwTYvO7nt0XRnjNcVegTzxTFR\n",
       "Ipp9AwQ1hpTwLGEAAAAhAZ5haRDfAAeXTy2yu+oJiFPiXA0sRKi4m7ek22chpEjAAAAH3m1vb3YA\n",
       "AABsbXZoZAAAAAAAAAAAAAAAAAAAA+gAACcQAAEAAAEAAAAAAAAAAAAAAAABAAAAAAAAAAAAAAAA\n",
       "AAAAAQAAAAAAAAAAAAAAAAAAQAAAAAAAAAAAAAAAAAAAAAAAAAAAAAAAAAAAAAAAAAIAAAcIdHJh\n",
       "awAAAFx0a2hkAAAAAwAAAAAAAAAAAAAAAQAAAAAAACcQAAAAAAAAAAAAAAAAAAAAAAABAAAAAAAA\n",
       "AAAAAAAAAAAAAQAAAAAAAAAAAAAAAAAAQAAAAAGwAAABIAAAAAAAJGVkdHMAAAAcZWxzdAAAAAAA\n",
       "AAABAAAnEAAACAAAAQAAAAAGgG1kaWEAAAAgbWRoZAAAAAAAAAAAAAAAAAAAKAAAAZAAVcQAAAAA\n",
       "AC1oZGxyAAAAAAAAAAB2aWRlAAAAAAAAAAAAAAAAVmlkZW9IYW5kbGVyAAAABittaW5mAAAAFHZt\n",
       "aGQAAAABAAAAAAAAAAAAAAAkZGluZgAAABxkcmVmAAAAAAAAAAEAAAAMdXJsIAAAAAEAAAXrc3Ri\n",
       "bAAAALNzdHNkAAAAAAAAAAEAAACjYXZjMQAAAAAAAAABAAAAAAAAAAAAAAAAAAAAAAGwASAASAAA\n",
       "AEgAAAAAAAAAAQAAAAAAAAAAAAAAAAAAAAAAAAAAAAAAAAAAAAAAAAAAABj//wAAADFhdmNDAWQA\n",
       "Ff/hABhnZAAVrNlBsJaEAAADAAQAAAMAUDxYtlgBAAZo6+PLIsAAAAAcdXVpZGtoQPJfJE/Fujml\n",
       "G88DI/MAAAAAAAAAGHN0dHMAAAAAAAAAAQAAAGQAAAQAAAAAFHN0c3MAAAAAAAAAAQAAAAEAAAMw\n",
       "Y3R0cwAAAAAAAABkAAAAAQAACAAAAAABAAAUAAAAAAEAAAgAAAAAAQAAAAAAAAABAAAEAAAAAAEA\n",
       "ABQAAAAAAQAACAAAAAABAAAAAAAAAAEAAAQAAAAAAQAAFAAAAAABAAAIAAAAAAEAAAAAAAAAAQAA\n",
       "BAAAAAABAAAUAAAAAAEAAAgAAAAAAQAAAAAAAAABAAAEAAAAAAEAABQAAAAAAQAACAAAAAABAAAA\n",
       "AAAAAAEAAAQAAAAAAQAAFAAAAAABAAAIAAAAAAEAAAAAAAAAAQAABAAAAAABAAAUAAAAAAEAAAgA\n",
       "AAAAAQAAAAAAAAABAAAEAAAAAAEAABQAAAAAAQAACAAAAAABAAAAAAAAAAEAAAQAAAAAAQAAFAAA\n",
       "AAABAAAIAAAAAAEAAAAAAAAAAQAABAAAAAABAAAUAAAAAAEAAAgAAAAAAQAAAAAAAAABAAAEAAAA\n",
       "AAEAABQAAAAAAQAACAAAAAABAAAAAAAAAAEAAAQAAAAAAQAAFAAAAAABAAAIAAAAAAEAAAAAAAAA\n",
       "AQAABAAAAAABAAAUAAAAAAEAAAgAAAAAAQAAAAAAAAABAAAEAAAAAAEAABQAAAAAAQAACAAAAAAB\n",
       "AAAAAAAAAAEAAAQAAAAAAQAAFAAAAAABAAAIAAAAAAEAAAAAAAAAAQAABAAAAAABAAAUAAAAAAEA\n",
       "AAgAAAAAAQAAAAAAAAABAAAEAAAAAAEAABQAAAAAAQAACAAAAAABAAAAAAAAAAEAAAQAAAAAAQAA\n",
       "FAAAAAABAAAIAAAAAAEAAAAAAAAAAQAABAAAAAABAAAUAAAAAAEAAAgAAAAAAQAAAAAAAAABAAAE\n",
       "AAAAAAEAABQAAAAAAQAACAAAAAABAAAAAAAAAAEAAAQAAAAAAQAAFAAAAAABAAAIAAAAAAEAAAAA\n",
       "AAAAAQAABAAAAAABAAAUAAAAAAEAAAgAAAAAAQAAAAAAAAABAAAEAAAAAAEAABQAAAAAAQAACAAA\n",
       "AAABAAAAAAAAAAEAAAQAAAAAAQAAFAAAAAABAAAIAAAAAAEAAAAAAAAAAQAABAAAAAABAAAQAAAA\n",
       "AAEAAAgAAAAAAQAAAAAAAAAcc3RzYwAAAAAAAAABAAAAAQAAAGQAAAABAAABpHN0c3oAAAAAAAAA\n",
       "AAAAAGQAABxdAAANhQAABIMAAAPpAAACYQAACwMAAAMGAAACGAAAANgAAAevAAAA/AAAAGEAAABJ\n",
       "AAAEPgAAAKAAAAAzAAAAMgAAA9YAAABfAAAAMgAAADgAAAKwAAAAVgAAACoAAAAmAAACVwAAAEwA\n",
       "AAAmAAAALQAAAhUAAAA2AAAAKgAAACMAAAJeAAAANQAAACYAAAAnAAABlQAAADwAAAAqAAAAKAAA\n",
       "AiIAAAA2AAAAIwAAACgAAAFeAAAALgAAACIAAAAjAAACYgAAADQAAAAgAAAAKQAAAgkAAAA1AAAA\n",
       "JAAAACgAAAIZAAAANwAAACYAAAAmAAACsQAAAEsAAAAmAAAAKgAAAJoAAAAxAAAAIQAAAB4AAAGL\n",
       "AAAANQAAACEAAAAnAAABSQAAADAAAAAdAAAAJgAAAUYAAAAyAAAAJAAAACAAAAG4AAAANQAAACsA\n",
       "AAAhAAAAnAAAADEAAAAkAAAAIwAAAWUAAABAAAAANwAAADQAAABsAAAAOwAAACQAAAAgAAAAXgAA\n",
       "AC0AAAAlAAAAFHN0Y28AAAAAAAAAAQAAACwAAABidWR0YQAAAFptZXRhAAAAAAAAACFoZGxyAAAA\n",
       "AAAAAABtZGlyYXBwbAAAAAAAAAAAAAAAAC1pbHN0AAAAJal0b28AAAAdZGF0YQAAAAEAAAAATGF2\n",
       "ZjU3LjgzLjEwMA==\n",
       "\">\n",
       "  Your browser does not support the video tag.\n",
       "</video>"
      ],
      "text/plain": [
       "<IPython.core.display.HTML object>"
      ]
     },
     "execution_count": 123,
     "metadata": {},
     "output_type": "execute_result"
    }
   ],
   "source": [
    "HTML(ani.to_html5_video())"
   ]
  },
  {
   "cell_type": "markdown",
   "metadata": {},
   "source": [
    "### Building a neural network in Keras"
   ]
  },
  {
   "cell_type": "code",
   "execution_count": 124,
   "metadata": {},
   "outputs": [
    {
     "name": "stdout",
     "output_type": "stream",
     "text": [
      "_________________________________________________________________\n",
      "Layer (type)                 Output Shape              Param #   \n",
      "=================================================================\n",
      "dense_14 (Dense)             (None, 200)               400       \n",
      "_________________________________________________________________\n",
      "dense_15 (Dense)             (None, 1)                 201       \n",
      "=================================================================\n",
      "Total params: 601\n",
      "Trainable params: 601\n",
      "Non-trainable params: 0\n",
      "_________________________________________________________________\n"
     ]
    }
   ],
   "source": [
    "network = Sequential([\n",
    "    Dense(n_hidden, input_dim=1, activation='relu'),\n",
    "    Dense(1)\n",
    "])\n",
    "network.summary()"
   ]
  },
  {
   "cell_type": "code",
   "execution_count": 125,
   "metadata": {
    "collapsed": true
   },
   "outputs": [],
   "source": [
    "network.compile(SGD(), 'mse')"
   ]
  },
  {
   "cell_type": "code",
   "execution_count": 126,
   "metadata": {},
   "outputs": [
    {
     "name": "stdout",
     "output_type": "stream",
     "text": [
      "Epoch 1/10\n",
      "50/50 [==============================] - 0s - loss: 0.6979\n",
      "Epoch 2/10\n",
      "50/50 [==============================] - 0s - loss: 0.6482\n",
      "Epoch 3/10\n",
      "50/50 [==============================] - 0s - loss: 0.6035\n",
      "Epoch 4/10\n",
      "50/50 [==============================] - 0s - loss: 0.5632\n",
      "Epoch 5/10\n",
      "50/50 [==============================] - 0s - loss: 0.5268\n",
      "Epoch 6/10\n",
      "50/50 [==============================] - 0s - loss: 0.4937\n",
      "Epoch 7/10\n",
      "50/50 [==============================] - 0s - loss: 0.4634\n",
      "Epoch 8/10\n",
      "50/50 [==============================] - 0s - loss: 0.4358\n",
      "Epoch 9/10\n",
      "50/50 [==============================] - 0s - loss: 0.4106\n",
      "Epoch 10/10\n",
      "50/50 [==============================] - 0s - loss: 0.3875\n"
     ]
    },
    {
     "data": {
      "text/plain": [
       "<keras.callbacks.History at 0x1296ac978>"
      ]
     },
     "execution_count": 126,
     "metadata": {},
     "output_type": "execute_result"
    }
   ],
   "source": [
    "network.fit(x, y, batch_size=x.shape[0], epochs=10)"
   ]
  },
  {
   "cell_type": "markdown",
   "metadata": {
    "collapsed": true
   },
   "source": [
    "## Post-processing: The data\n",
    "\n",
    "In post-processing we want to correct model biases by looking at past forecast/observation pairs. Specifically, if we are looking at probabilistic/ensemble forecasts, we want the forecast to be calibrated. For example, for all cases where the forecasts say that the chance of rain is 40%, it should actually rain in 40% of these cases.\n",
    "\n",
    "For this study we are looking at 48h ensemble forecasts of temperature at around DWD 500 surface stations in Germany. Our forecasts are ECMWF 50 member ensemble forecasts taken from the TIGGE dataset which contain forecasts from 2008 to now upscaled to 40km grid spacing. The forecast data was bilinearly interpolated to the station locations.\n",
    "\n",
    "We will use all of 2015 for training the model and all of 2016 to test how well the model performs."
   ]
  },
  {
   "cell_type": "code",
   "execution_count": 127,
   "metadata": {},
   "outputs": [
    {
     "name": "stdout",
     "output_type": "stream",
     "text": [
      "train set contains 365 days\n",
      "test set contains 366 days\n"
     ]
    }
   ],
   "source": [
    "train_dates = ['2015-01-01', '2016-01-01']\n",
    "test_dates =  ['2016-01-01', '2017-01-01']\n",
    "train_set, test_set = get_train_test_sets(DATA_DIR, train_dates, test_dates)"
   ]
  },
  {
   "cell_type": "markdown",
   "metadata": {},
   "source": [
    "The raw ensemble contains 50 ensemble members. We take the mean and standard deviations of these 50 values which is a good approximation since temperature is normally distributed."
   ]
  },
  {
   "cell_type": "code",
   "execution_count": 128,
   "metadata": {},
   "outputs": [
    {
     "data": {
      "text/plain": [
       "['t2m_fc_mean', 't2m_fc_std']"
      ]
     },
     "execution_count": 128,
     "metadata": {},
     "output_type": "execute_result"
    }
   ],
   "source": [
    "train_set.feature_names"
   ]
  },
  {
   "cell_type": "markdown",
   "metadata": {},
   "source": [
    "In total we have around 500 stations for every day with some missing observation data. In total that makes around 180k samples."
   ]
  },
  {
   "cell_type": "code",
   "execution_count": 129,
   "metadata": {},
   "outputs": [
    {
     "data": {
      "text/plain": [
       "500"
      ]
     },
     "execution_count": 129,
     "metadata": {},
     "output_type": "execute_result"
    }
   ],
   "source": [
    "len(np.unique(train_set.station_ids))"
   ]
  },
  {
   "cell_type": "code",
   "execution_count": 130,
   "metadata": {},
   "outputs": [
    {
     "data": {
      "text/plain": [
       "((180849, 2), (180849,))"
      ]
     },
     "execution_count": 130,
     "metadata": {},
     "output_type": "execute_result"
    }
   ],
   "source": [
    "train_set.features.shape, train_set.targets.shape"
   ]
  },
  {
   "cell_type": "code",
   "execution_count": null,
   "metadata": {
    "collapsed": true
   },
   "outputs": [],
   "source": []
  },
  {
   "cell_type": "markdown",
   "metadata": {},
   "source": [
    "The goal of post-processing is to produce a sharp but reliable distribution."
   ]
  },
  {
   "cell_type": "code",
   "execution_count": 131,
   "metadata": {},
   "outputs": [
    {
     "data": {
      "image/png": "[encoded data removed]",
      "text/plain": [
       "<matplotlib.figure.Figure at 0x12155c2e8>"
      ]
     },
     "metadata": {},
     "output_type": "display_data"
    }
   ],
   "source": [
    "plot_fc(train_set, 1001)"
   ]
  },
  {
   "cell_type": "markdown",
   "metadata": {},
   "source": [
    "To measure the skill of the forecast, we use the CRPS: \n",
    "\n",
    "\n",
    "$$ \\mathrm{crps}(F, y) = \\int_{-\\infty}^{\\infty} [F(t) - H(t-y)]^2\\mathrm{d}t, $$\n",
    "\n",
    "where $F(t)$ is the forecast CDF and $H(t-y)$ is the Heaviside function."
   ]
  },
  {
   "cell_type": "code",
   "execution_count": 132,
   "metadata": {},
   "outputs": [
    {
     "data": {
      "image/png": "[encoded data removed]",
      "text/plain": [
       "<matplotlib.figure.Figure at 0x125f4ada0>"
      ]
     },
     "metadata": {},
     "output_type": "display_data"
    }
   ],
   "source": [
    "plot_fc(train_set, 1001, 'cdf')"
   ]
  },
  {
   "cell_type": "markdown",
   "metadata": {},
   "source": [
    "For a normal distribution we can easily compute the CRPS from the mean and standard deviation for the raw ensemble, which is the score we want to improve."
   ]
  },
  {
   "cell_type": "code",
   "execution_count": 133,
   "metadata": {},
   "outputs": [
    {
     "data": {
      "text/plain": [
       "1.1518655803868305"
      ]
     },
     "execution_count": 133,
     "metadata": {},
     "output_type": "execute_result"
    }
   ],
   "source": [
    "np.mean(crps_normal(\n",
    "    test_set.features[:, 0] * test_set.scale_factors[0], \n",
    "    test_set.features[:, 1] * test_set.scale_factors[1], \n",
    "    test_set.targets\n",
    "))"
   ]
  },
  {
   "cell_type": "markdown",
   "metadata": {},
   "source": [
    "## Simple postprocessing\n",
    "\n",
    "The most common post-processing technique for this sort of problem is called Ensemble Model Output Statistic (Gneiting et al. 2005). In this technique, the goal is to find a distribution\n",
    "$$ \\mathcal{N}(a + bX, c + dS^2), $$\n",
    "where $X$ is the raw ensemble mean and $S$ is the raw ensemble standard deviation, so that \n",
    "$$ \\min_{a, b, c, d} \\frac{1}{N_{\\mathrm{sample}}} \\sum_{i = 1}^{N_{\\mathrm{sample}}} crps(\\mathcal{N}(a + bX, c + dS^2), y_i)$$\n",
    "The minimum over all samples is found using some optimization algorithm. We can also view this as a network graph\n",
    "\n",
    "![EMOS_Network](EMOS_Network.png)\n",
    "\n",
    "There are two commonly used variant of EMOS: Global EMOS where all stations share the same coefficients and training happens over a rolling window of e.g. 25 days and local EMOS where each station is fit separately with a longer training window (e.g. 1 year).\n",
    "\n",
    "The CRPS scores for 2016 are:\n",
    "- Global EMOS: 1.01\n",
    "- Local EMOS: 0.92\n",
    "\n",
    "This is the benchmark for our networks.\n",
    "\n",
    "Let's start by fitting a very simple fully connected network like this:\n",
    "![fc_network](fc_network.png)"
   ]
  },
  {
   "cell_type": "code",
   "execution_count": 134,
   "metadata": {
    "collapsed": true
   },
   "outputs": [],
   "source": [
    "# Build the network using Keras\n",
    "fc_model = Sequential([\n",
    "    Dense(2, input_dim=2)\n",
    "])"
   ]
  },
  {
   "cell_type": "code",
   "execution_count": 135,
   "metadata": {},
   "outputs": [
    {
     "name": "stdout",
     "output_type": "stream",
     "text": [
      "_________________________________________________________________\n",
      "Layer (type)                 Output Shape              Param #   \n",
      "=================================================================\n",
      "dense_16 (Dense)             (None, 2)                 6         \n",
      "=================================================================\n",
      "Total params: 6\n",
      "Trainable params: 6\n",
      "Non-trainable params: 0\n",
      "_________________________________________________________________\n"
     ]
    }
   ],
   "source": [
    "fc_model.summary()"
   ]
  },
  {
   "cell_type": "code",
   "execution_count": 136,
   "metadata": {
    "collapsed": true
   },
   "outputs": [],
   "source": [
    "fc_model.compile(Adam(0.1), crps_cost_function)"
   ]
  },
  {
   "cell_type": "code",
   "execution_count": 137,
   "metadata": {},
   "outputs": [
    {
     "name": "stdout",
     "output_type": "stream",
     "text": [
      "Epoch 1/20\n",
      "180849/180849 [==============================] - 0s - loss: 5.0170     \n",
      "Epoch 2/20\n",
      "180849/180849 [==============================] - 0s - loss: 2.9692     \n",
      "Epoch 3/20\n",
      "180849/180849 [==============================] - 0s - loss: 2.5935     \n",
      "Epoch 4/20\n",
      "180849/180849 [==============================] - 0s - loss: 2.2147     \n",
      "Epoch 5/20\n",
      "180849/180849 [==============================] - 0s - loss: 1.8397     \n",
      "Epoch 6/20\n",
      "180849/180849 [==============================] - 0s - loss: 1.5095     \n",
      "Epoch 7/20\n",
      "180849/180849 [==============================] - 0s - loss: 1.2680     \n",
      "Epoch 8/20\n",
      "180849/180849 [==============================] - 0s - loss: 1.1373     \n",
      "Epoch 9/20\n",
      "180849/180849 [==============================] - 0s - loss: 1.0878     \n",
      "Epoch 10/20\n",
      "180849/180849 [==============================] - 0s - loss: 1.0738     \n",
      "Epoch 11/20\n",
      "180849/180849 [==============================] - 0s - loss: 1.0704     \n",
      "Epoch 12/20\n",
      "180849/180849 [==============================] - 0s - loss: 1.0696     \n",
      "Epoch 13/20\n",
      "180849/180849 [==============================] - 0s - loss: 1.0693     \n",
      "Epoch 14/20\n",
      "180849/180849 [==============================] - 0s - loss: 1.0692     \n",
      "Epoch 15/20\n",
      "180849/180849 [==============================] - 0s - loss: 1.0692     \n",
      "Epoch 16/20\n",
      "180849/180849 [==============================] - 0s - loss: 1.0691     \n",
      "Epoch 17/20\n",
      "180849/180849 [==============================] - 0s - loss: 1.0691     \n",
      "Epoch 18/20\n",
      "180849/180849 [==============================] - 0s - loss: 1.0691     - ETA: 0s - loss: 1\n",
      "Epoch 19/20\n",
      "180849/180849 [==============================] - 0s - loss: 1.0691     \n",
      "Epoch 20/20\n",
      "180849/180849 [==============================] - 0s - loss: 1.0691     \n"
     ]
    },
    {
     "data": {
      "text/plain": [
       "<keras.callbacks.History at 0x121dca9e8>"
      ]
     },
     "execution_count": 137,
     "metadata": {},
     "output_type": "execute_result"
    }
   ],
   "source": [
    "fc_model.fit(train_set.features, train_set.targets, epochs=20, batch_size=4096)"
   ]
  },
  {
   "cell_type": "code",
   "execution_count": 138,
   "metadata": {},
   "outputs": [
    {
     "data": {
      "text/plain": [
       "1.012500900919407"
      ]
     },
     "execution_count": 138,
     "metadata": {},
     "output_type": "execute_result"
    }
   ],
   "source": [
    "# Now display the score for 2016\n",
    "fc_model.evaluate(test_set.features, test_set.targets, 4096, verbose=0)"
   ]
  },
  {
   "cell_type": "markdown",
   "metadata": {},
   "source": [
    "So we basically get the same score as global EMOS, which is what we would expect."
   ]
  },
  {
   "cell_type": "markdown",
   "metadata": {},
   "source": [
    "### Add station information with embeddings\n",
    "\n",
    "The stations probably differ a lot in their post-processing characteristics. So we want to include this somehow. In local EMOS, we wit a separate model for each station, but this takes a long time and doesn't optimally use all the training data.\n",
    "\n",
    "Embeddings are a neural network technique which provide a natural way to include station information. An embedding is a mapping from a discrete object, in our case the station ID, to a vector. The elements of the vector are learned by the network just like the other weights and biases and represent some extra information about each station."
   ]
  },
  {
   "cell_type": "code",
   "execution_count": 139,
   "metadata": {},
   "outputs": [
    {
     "data": {
      "text/plain": [
       "536"
      ]
     },
     "execution_count": 139,
     "metadata": {},
     "output_type": "execute_result"
    }
   ],
   "source": [
    "emb_size = 2\n",
    "max_id = int(np.max([train_set.cont_ids.max(), test_set.cont_ids.max()]))\n",
    "max_id"
   ]
  },
  {
   "cell_type": "code",
   "execution_count": 140,
   "metadata": {
    "collapsed": true
   },
   "outputs": [],
   "source": [
    "features_inp = Input(shape=(2,))\n",
    "id_inp = Input(shape=(1,))\n",
    "emb = Embedding(max_id+1, emb_size)(id_inp)\n",
    "emb = Flatten()(emb)\n",
    "x = Concatenate()([features_inp, emb])\n",
    "outp = Dense(2)(x)\n",
    "emb_model = Model([features_inp, id_inp], outp)"
   ]
  },
  {
   "cell_type": "code",
   "execution_count": 141,
   "metadata": {},
   "outputs": [
    {
     "name": "stdout",
     "output_type": "stream",
     "text": [
      "____________________________________________________________________________________________________\n",
      "Layer (type)                     Output Shape          Param #     Connected to                     \n",
      "====================================================================================================\n",
      "input_12 (InputLayer)            (None, 1)             0                                            \n",
      "____________________________________________________________________________________________________\n",
      "embedding_6 (Embedding)          (None, 1, 2)          1074        input_12[0][0]                   \n",
      "____________________________________________________________________________________________________\n",
      "input_11 (InputLayer)            (None, 2)             0                                            \n",
      "____________________________________________________________________________________________________\n",
      "flatten_6 (Flatten)              (None, 2)             0           embedding_6[0][0]                \n",
      "____________________________________________________________________________________________________\n",
      "concatenate_6 (Concatenate)      (None, 4)             0           input_11[0][0]                   \n",
      "                                                                   flatten_6[0][0]                  \n",
      "____________________________________________________________________________________________________\n",
      "dense_17 (Dense)                 (None, 2)             10          concatenate_6[0][0]              \n",
      "====================================================================================================\n",
      "Total params: 1,084\n",
      "Trainable params: 1,084\n",
      "Non-trainable params: 0\n",
      "____________________________________________________________________________________________________\n"
     ]
    }
   ],
   "source": [
    "emb_model.summary()"
   ]
  },
  {
   "cell_type": "code",
   "execution_count": 142,
   "metadata": {
    "collapsed": true
   },
   "outputs": [],
   "source": [
    "emb_model.compile(Adam(0.1), crps_cost_function)"
   ]
  },
  {
   "cell_type": "code",
   "execution_count": 143,
   "metadata": {},
   "outputs": [
    {
     "name": "stdout",
     "output_type": "stream",
     "text": [
      "Epoch 1/20\n",
      "180849/180849 [==============================] - 0s - loss: 4.2212     \n",
      "Epoch 2/20\n",
      "180849/180849 [==============================] - 0s - loss: 2.8713     \n",
      "Epoch 3/20\n",
      "180849/180849 [==============================] - 0s - loss: 2.3933     \n",
      "Epoch 4/20\n",
      "180849/180849 [==============================] - 0s - loss: 1.9272     \n",
      "Epoch 5/20\n",
      "180849/180849 [==============================] - 0s - loss: 1.5104     \n",
      "Epoch 6/20\n",
      "180849/180849 [==============================] - 0s - loss: 1.2025     \n",
      "Epoch 7/20\n",
      "180849/180849 [==============================] - 0s - loss: 1.0390     \n",
      "Epoch 8/20\n",
      "180849/180849 [==============================] - 0s - loss: 0.9838     \n",
      "Epoch 9/20\n",
      "180849/180849 [==============================] - 0s - loss: 0.9719     \n",
      "Epoch 10/20\n",
      "180849/180849 [==============================] - 0s - loss: 0.9698     \n",
      "Epoch 11/20\n",
      "180849/180849 [==============================] - 0s - loss: 0.9693     \n",
      "Epoch 12/20\n",
      "180849/180849 [==============================] - 0s - loss: 0.9693     \n",
      "Epoch 13/20\n",
      "180849/180849 [==============================] - 0s - loss: 0.9693     \n",
      "Epoch 14/20\n",
      "180849/180849 [==============================] - 0s - loss: 0.9692     \n",
      "Epoch 15/20\n",
      "180849/180849 [==============================] - 0s - loss: 0.9692     \n",
      "Epoch 16/20\n",
      "180849/180849 [==============================] - 0s - loss: 0.9693     \n",
      "Epoch 17/20\n",
      "180849/180849 [==============================] - 0s - loss: 0.9694     \n",
      "Epoch 18/20\n",
      "180849/180849 [==============================] - 0s - loss: 0.9692     \n",
      "Epoch 19/20\n",
      "180849/180849 [==============================] - 0s - loss: 0.9695     \n",
      "Epoch 20/20\n",
      "180849/180849 [==============================] - 0s - loss: 0.9693     \n"
     ]
    }
   ],
   "source": [
    "emb_model.fit([train_set.features, train_set.cont_ids], train_set.targets,\n",
    "              epochs=20, batch_size=4096);"
   ]
  },
  {
   "cell_type": "code",
   "execution_count": 144,
   "metadata": {},
   "outputs": [
    {
     "data": {
      "text/plain": [
       "0.91208449234237232"
      ]
     },
     "execution_count": 144,
     "metadata": {},
     "output_type": "execute_result"
    }
   ],
   "source": [
    "emb_model.evaluate([test_set.features, test_set.cont_ids], test_set.targets, 4096, 0)"
   ]
  },
  {
   "cell_type": "markdown",
   "metadata": {},
   "source": [
    "This score is about 1% better than local EMOS and is much faster."
   ]
  },
  {
   "cell_type": "code",
   "execution_count": 145,
   "metadata": {
    "collapsed": true
   },
   "outputs": [],
   "source": [
    "preds = emb_model.predict([test_set.features, test_set.cont_ids], 4096)"
   ]
  },
  {
   "cell_type": "code",
   "execution_count": 146,
   "metadata": {},
   "outputs": [
    {
     "data": {
      "image/png": "[encoded data removed]",
      "text/plain": [
       "<matplotlib.figure.Figure at 0x122425e48>"
      ]
     },
     "metadata": {},
     "output_type": "display_data"
    }
   ],
   "source": [
    "plot_fc(test_set, 5, preds=preds)"
   ]
  },
  {
   "cell_type": "markdown",
   "metadata": {
    "heading_collapsed": true
   },
   "source": [
    "### What about a neural network?\n",
    "\n",
    "So far the network we used were simple linear networks, nothing neural about them. Let's try adding a hidden layer."
   ]
  },
  {
   "cell_type": "code",
   "execution_count": null,
   "metadata": {
    "collapsed": true,
    "hidden": true
   },
   "outputs": [],
   "source": [
    "def create_emb_hidden_model(hidden_nodes, n_features=2, activation='relu'):\n",
    "    features_inp = Input(shape=(n_features,))\n",
    "    id_inp = Input(shape=(1,))\n",
    "    emb = Embedding(max_id+1, emb_size)(id_inp)\n",
    "    emb = Flatten()(emb)\n",
    "    x = Concatenate()([features_inp, emb])\n",
    "    for h in hidden_nodes:\n",
    "        x = Dense(h, activation=activation)(x)\n",
    "    outp = Dense(2)(x)\n",
    "    return Model([features_inp, id_inp], outp)"
   ]
  },
  {
   "cell_type": "code",
   "execution_count": null,
   "metadata": {
    "collapsed": true,
    "hidden": true
   },
   "outputs": [],
   "source": [
    "neural_net = create_emb_hidden_model([1024])\n",
    "neural_net.summary()"
   ]
  },
  {
   "cell_type": "code",
   "execution_count": null,
   "metadata": {
    "collapsed": true,
    "hidden": true
   },
   "outputs": [],
   "source": [
    "neural_net.compile(Adam(0.1), crps_cost_function)"
   ]
  },
  {
   "cell_type": "code",
   "execution_count": null,
   "metadata": {
    "collapsed": true,
    "hidden": true
   },
   "outputs": [],
   "source": [
    "neural_net.fit([train_set.features, train_set.cont_ids], train_set.targets, \n",
    "               epochs=20, batch_size=4096)"
   ]
  },
  {
   "cell_type": "code",
   "execution_count": null,
   "metadata": {
    "collapsed": true,
    "hidden": true
   },
   "outputs": [],
   "source": [
    "neural_net.evaluate([test_set.features, test_set.cont_ids], test_set.targets, 4096, 0)"
   ]
  },
  {
   "cell_type": "markdown",
   "metadata": {
    "hidden": true
   },
   "source": [
    "For the simple input that we have, adding non-linearity doesn't help to improve the fit."
   ]
  },
  {
   "cell_type": "markdown",
   "metadata": {},
   "source": [
    "## Adding more variables\n",
    "\n",
    "So far we have only used the temperature forecast as input but really we have a lot more variables from each forecast which might give us more information about the weather situation. \n",
    "\n",
    "In traditional post-processing there are techniques to utilize these auxiliary variables, called boosting techniques. \n",
    "\n",
    "Here are the benchmark scores from Sebastian's boosting experiments:\n",
    "- global boosting: 0.97\n",
    "- local boosting: 0.87\n",
    "\n",
    "As a first attempt we can simply throw in these extra variables to our standard network and see what happens. "
   ]
  },
  {
   "cell_type": "code",
   "execution_count": 147,
   "metadata": {
    "collapsed": true
   },
   "outputs": [],
   "source": [
    "#aux_train_set, aux_test_set = get_train_test_sets(DATA_DIR, train_dates, test_dates,\n",
    "#                                                  aux_dict=aux_dict)\n",
    "with open(DATA_DIR + 'pickled/aux_15_16.pkl', 'rb') as f:\n",
    "    aux_train_set, aux_test_set = pickle.load(f)"
   ]
  },
  {
   "cell_type": "code",
   "execution_count": 148,
   "metadata": {},
   "outputs": [
    {
     "name": "stdout",
     "output_type": "stream",
     "text": [
      "['t2m_fc_mean', 't2m_fc_std', 'orog', 'station_alt', 'station_lat', 'station_lon', 'u_pl500_fc_mean', 'u_pl500_fc_std', 'v_pl500_fc_mean', 'v_pl500_fc_std', 'gh_pl500_fc_mean', 'gh_pl500_fc_std', 'u_pl850_fc_mean', 'u_pl850_fc_std', 'v_pl850_fc_mean', 'v_pl850_fc_std', 'q_pl850_fc_mean', 'q_pl850_fc_std', 'cape_fc_mean', 'cape_fc_std', 'sp_fc_mean', 'sp_fc_std', 'tcc_fc_mean', 'tcc_fc_std', 'sshf_fc_mean', 'sshf_fc_std', 'slhf_fc_mean', 'slhf_fc_std', 'u10_fc_mean', 'u10_fc_std', 'v10_fc_mean', 'v10_fc_std', 'ssr_fc_mean', 'ssr_fc_std', 'str_fc_mean', 'str_fc_std', 'd2m_fc_mean', 'd2m_fc_std', 'sm_fc_mean', 'sm_fc_std']\n"
     ]
    },
    {
     "data": {
      "text/plain": [
       "40"
      ]
     },
     "execution_count": 148,
     "metadata": {},
     "output_type": "execute_result"
    }
   ],
   "source": [
    "print(aux_train_set.feature_names)\n",
    "len(aux_train_set.feature_names)"
   ]
  },
  {
   "cell_type": "markdown",
   "metadata": {},
   "source": [
    "As with temperature, we took the ensemble mean and standard deviation of all auxiliary variables (except for the constants). Now we can build the same network as earlier but with 40 inputs."
   ]
  },
  {
   "cell_type": "markdown",
   "metadata": {},
   "source": [
    "### Simple linear net with auxiliary variables"
   ]
  },
  {
   "cell_type": "code",
   "execution_count": 149,
   "metadata": {},
   "outputs": [
    {
     "name": "stdout",
     "output_type": "stream",
     "text": [
      "_________________________________________________________________\n",
      "Layer (type)                 Output Shape              Param #   \n",
      "=================================================================\n",
      "dense_18 (Dense)             (None, 2)                 82        \n",
      "=================================================================\n",
      "Total params: 82\n",
      "Trainable params: 82\n",
      "Non-trainable params: 0\n",
      "_________________________________________________________________\n"
     ]
    }
   ],
   "source": [
    "aux_fc_model = Sequential([\n",
    "    Dense(2, input_dim=40)\n",
    "])\n",
    "aux_fc_model.compile(Adam(0.1), crps_cost_function)\n",
    "aux_fc_model.summary()"
   ]
  },
  {
   "cell_type": "code",
   "execution_count": 150,
   "metadata": {},
   "outputs": [
    {
     "name": "stdout",
     "output_type": "stream",
     "text": [
      "Epoch 1/20\n",
      "180849/180849 [==============================] - 0s - loss: 2.5535     \n",
      "Epoch 2/20\n",
      "180849/180849 [==============================] - 0s - loss: 1.5773     \n",
      "Epoch 3/20\n",
      "180849/180849 [==============================] - 0s - loss: 1.2830     \n",
      "Epoch 4/20\n",
      "180849/180849 [==============================] - 0s - loss: 1.1549     \n",
      "Epoch 5/20\n",
      "180849/180849 [==============================] - 0s - loss: 1.0817     \n",
      "Epoch 6/20\n",
      "180849/180849 [==============================] - 0s - loss: 1.0437     \n",
      "Epoch 7/20\n",
      "180849/180849 [==============================] - 0s - loss: 1.0278     \n",
      "Epoch 8/20\n",
      "180849/180849 [==============================] - 0s - loss: 1.0086     \n",
      "Epoch 9/20\n",
      "180849/180849 [==============================] - 0s - loss: 1.0005     \n",
      "Epoch 10/20\n",
      "180849/180849 [==============================] - 0s - loss: 0.9926     \n",
      "Epoch 11/20\n",
      "180849/180849 [==============================] - 0s - loss: 0.9910     \n",
      "Epoch 12/20\n",
      "180849/180849 [==============================] - 0s - loss: 0.9731     \n",
      "Epoch 13/20\n",
      "180849/180849 [==============================] - 0s - loss: 0.9816     \n",
      "Epoch 14/20\n",
      "180849/180849 [==============================] - 0s - loss: 1.0521     \n",
      "Epoch 15/20\n",
      "180849/180849 [==============================] - 0s - loss: 0.9741     \n",
      "Epoch 16/20\n",
      "180849/180849 [==============================] - 0s - loss: 0.9704     \n",
      "Epoch 17/20\n",
      "180849/180849 [==============================] - 0s - loss: 0.9634     \n",
      "Epoch 18/20\n",
      "180849/180849 [==============================] - 0s - loss: 0.9619     \n",
      "Epoch 19/20\n",
      "180849/180849 [==============================] - 0s - loss: 0.9759     \n",
      "Epoch 20/20\n",
      "180849/180849 [==============================] - 0s - loss: 0.9606     \n"
     ]
    },
    {
     "data": {
      "text/plain": [
       "<keras.callbacks.History at 0x124139438>"
      ]
     },
     "execution_count": 150,
     "metadata": {},
     "output_type": "execute_result"
    }
   ],
   "source": [
    "aux_fc_model.fit(aux_train_set.features, aux_train_set.targets, epochs=20, batch_size=4096)"
   ]
  },
  {
   "cell_type": "code",
   "execution_count": 151,
   "metadata": {},
   "outputs": [
    {
     "data": {
      "text/plain": [
       "0.9233612137419458"
      ]
     },
     "execution_count": 151,
     "metadata": {},
     "output_type": "execute_result"
    }
   ],
   "source": [
    "aux_fc_model.evaluate(aux_test_set.features, aux_test_set.targets, 4096, 0)"
   ]
  },
  {
   "cell_type": "markdown",
   "metadata": {},
   "source": [
    "So we get a big improvement from 1.01 for only temperature. we are also doing better than global boosting. Next let's include our station embeddings."
   ]
  },
  {
   "cell_type": "markdown",
   "metadata": {},
   "source": [
    "### Auxiliary variables with station embeddings"
   ]
  },
  {
   "cell_type": "code",
   "execution_count": 152,
   "metadata": {
    "collapsed": true
   },
   "outputs": [],
   "source": [
    "def create_emb_hidden_model(hidden_nodes, n_features=2, activation='relu'):\n",
    "    features_inp = Input(shape=(n_features,))\n",
    "    id_inp = Input(shape=(1,))\n",
    "    emb = Embedding(max_id+1, emb_size)(id_inp)\n",
    "    emb = Flatten()(emb)\n",
    "    x = Concatenate()([features_inp, emb])\n",
    "    for h in hidden_nodes:\n",
    "        x = Dense(h, activation=activation)(x)\n",
    "    outp = Dense(2)(x)\n",
    "    return Model([features_inp, id_inp], outp)"
   ]
  },
  {
   "cell_type": "code",
   "execution_count": 153,
   "metadata": {},
   "outputs": [
    {
     "name": "stdout",
     "output_type": "stream",
     "text": [
      "____________________________________________________________________________________________________\n",
      "Layer (type)                     Output Shape          Param #     Connected to                     \n",
      "====================================================================================================\n",
      "input_14 (InputLayer)            (None, 1)             0                                            \n",
      "____________________________________________________________________________________________________\n",
      "embedding_7 (Embedding)          (None, 1, 2)          1074        input_14[0][0]                   \n",
      "____________________________________________________________________________________________________\n",
      "input_13 (InputLayer)            (None, 40)            0                                            \n",
      "____________________________________________________________________________________________________\n",
      "flatten_7 (Flatten)              (None, 2)             0           embedding_7[0][0]                \n",
      "____________________________________________________________________________________________________\n",
      "concatenate_7 (Concatenate)      (None, 42)            0           input_13[0][0]                   \n",
      "                                                                   flatten_7[0][0]                  \n",
      "____________________________________________________________________________________________________\n",
      "dense_19 (Dense)                 (None, 2)             86          concatenate_7[0][0]              \n",
      "====================================================================================================\n",
      "Total params: 1,160\n",
      "Trainable params: 1,160\n",
      "Non-trainable params: 0\n",
      "____________________________________________________________________________________________________\n"
     ]
    }
   ],
   "source": [
    "aux_emb_model = create_emb_hidden_model([], n_features=40)\n",
    "aux_emb_model.compile(Adam(0.01), crps_cost_function)\n",
    "aux_emb_model.summary()"
   ]
  },
  {
   "cell_type": "code",
   "execution_count": 154,
   "metadata": {},
   "outputs": [
    {
     "name": "stdout",
     "output_type": "stream",
     "text": [
      "Epoch 1/50\n",
      "180849/180849 [==============================] - 1s - loss: 2.8302     \n",
      "Epoch 2/50\n",
      "180849/180849 [==============================] - 0s - loss: 1.9145     \n",
      "Epoch 3/50\n",
      "180849/180849 [==============================] - 0s - loss: 1.6415     \n",
      "Epoch 4/50\n",
      "180849/180849 [==============================] - 0s - loss: 1.4684     \n",
      "Epoch 5/50\n",
      "180849/180849 [==============================] - 1s - loss: 1.3430     \n",
      "Epoch 6/50\n",
      "180849/180849 [==============================] - 1s - loss: 1.2511     \n",
      "Epoch 7/50\n",
      "180849/180849 [==============================] - 0s - loss: 1.1794     \n",
      "Epoch 8/50\n",
      "180849/180849 [==============================] - 0s - loss: 1.1270     \n",
      "Epoch 9/50\n",
      "180849/180849 [==============================] - 1s - loss: 1.0852     \n",
      "Epoch 10/50\n",
      "180849/180849 [==============================] - 1s - loss: 1.0530     \n",
      "Epoch 11/50\n",
      "180849/180849 [==============================] - 1s - loss: 1.0288     \n",
      "Epoch 12/50\n",
      "180849/180849 [==============================] - 0s - loss: 1.0098     \n",
      "Epoch 13/50\n",
      "180849/180849 [==============================] - 1s - loss: 0.9953     \n",
      "Epoch 14/50\n",
      "180849/180849 [==============================] - 1s - loss: 0.9836     \n",
      "Epoch 15/50\n",
      "180849/180849 [==============================] - 1s - loss: 0.9735     \n",
      "Epoch 16/50\n",
      "180849/180849 [==============================] - 1s - loss: 0.9651     \n",
      "Epoch 17/50\n",
      "180849/180849 [==============================] - 0s - loss: 0.9580     \n",
      "Epoch 18/50\n",
      "180849/180849 [==============================] - 1s - loss: 0.9520     \n",
      "Epoch 19/50\n",
      "180849/180849 [==============================] - 1s - loss: 0.9455     \n",
      "Epoch 20/50\n",
      "180849/180849 [==============================] - 1s - loss: 0.9411     \n",
      "Epoch 21/50\n",
      "180849/180849 [==============================] - 0s - loss: 0.9360     \n",
      "Epoch 22/50\n",
      "180849/180849 [==============================] - 0s - loss: 0.9324     \n",
      "Epoch 23/50\n",
      "180849/180849 [==============================] - 0s - loss: 0.9285     \n",
      "Epoch 24/50\n",
      "180849/180849 [==============================] - 1s - loss: 0.9254     \n",
      "Epoch 25/50\n",
      "180849/180849 [==============================] - 0s - loss: 0.9234     \n",
      "Epoch 26/50\n",
      "180849/180849 [==============================] - 1s - loss: 0.9211     \n",
      "Epoch 27/50\n",
      "180849/180849 [==============================] - 1s - loss: 0.9194     \n",
      "Epoch 28/50\n",
      "180849/180849 [==============================] - 1s - loss: 0.9172     \n",
      "Epoch 29/50\n",
      "180849/180849 [==============================] - 1s - loss: 0.9156     \n",
      "Epoch 30/50\n",
      "180849/180849 [==============================] - 1s - loss: 0.9151     \n",
      "Epoch 31/50\n",
      "180849/180849 [==============================] - 1s - loss: 0.9141     \n",
      "Epoch 32/50\n",
      "180849/180849 [==============================] - 1s - loss: 0.9133     \n",
      "Epoch 33/50\n",
      "180849/180849 [==============================] - 0s - loss: 0.9114     \n",
      "Epoch 34/50\n",
      "180849/180849 [==============================] - 1s - loss: 0.9117     \n",
      "Epoch 35/50\n",
      "180849/180849 [==============================] - 1s - loss: 0.9105     \n",
      "Epoch 36/50\n",
      "180849/180849 [==============================] - 1s - loss: 0.9117     \n",
      "Epoch 37/50\n",
      "180849/180849 [==============================] - 0s - loss: 0.9105     \n",
      "Epoch 38/50\n",
      "180849/180849 [==============================] - 1s - loss: 0.9097     \n",
      "Epoch 39/50\n",
      "180849/180849 [==============================] - 1s - loss: 0.9093     \n",
      "Epoch 40/50\n",
      "180849/180849 [==============================] - 1s - loss: 0.9100     \n",
      "Epoch 41/50\n",
      "180849/180849 [==============================] - 0s - loss: 0.9090     \n",
      "Epoch 42/50\n",
      "180849/180849 [==============================] - 0s - loss: 0.9087     \n",
      "Epoch 43/50\n",
      "180849/180849 [==============================] - 0s - loss: 0.9085     \n",
      "Epoch 44/50\n",
      "180849/180849 [==============================] - 1s - loss: 0.9084     \n",
      "Epoch 45/50\n",
      "180849/180849 [==============================] - 0s - loss: 0.9090     \n",
      "Epoch 46/50\n",
      "180849/180849 [==============================] - 1s - loss: 0.9091     \n",
      "Epoch 47/50\n",
      "180849/180849 [==============================] - 0s - loss: 0.9083     \n",
      "Epoch 48/50\n",
      "180849/180849 [==============================] - 1s - loss: 0.9082     \n",
      "Epoch 49/50\n",
      "180849/180849 [==============================] - 0s - loss: 0.9083     \n",
      "Epoch 50/50\n",
      "180849/180849 [==============================] - 1s - loss: 0.9083     \n"
     ]
    }
   ],
   "source": [
    "aux_emb_model.fit([aux_train_set.features, aux_train_set.cont_ids], aux_train_set.targets, \n",
    "                   epochs=50, batch_size=1024);"
   ]
  },
  {
   "cell_type": "code",
   "execution_count": 156,
   "metadata": {},
   "outputs": [
    {
     "data": {
      "text/plain": [
       "0.87838598166802817"
      ]
     },
     "execution_count": 156,
     "metadata": {},
     "output_type": "execute_result"
    }
   ],
   "source": [
    "aux_emb_model.evaluate([aux_test_set.features, aux_test_set.cont_ids], \n",
    "                       aux_test_set.targets, 4096, 0)"
   ]
  },
  {
   "cell_type": "markdown",
   "metadata": {},
   "source": [
    "This is slightly worse than the local boosting algorithm."
   ]
  },
  {
   "cell_type": "markdown",
   "metadata": {},
   "source": [
    "### Neural network\n",
    "\n",
    "So far we have only used linear networks. Now let's add some non-linearity with one hidden layer."
   ]
  },
  {
   "cell_type": "code",
   "execution_count": 157,
   "metadata": {},
   "outputs": [
    {
     "name": "stdout",
     "output_type": "stream",
     "text": [
      "____________________________________________________________________________________________________\n",
      "Layer (type)                     Output Shape          Param #     Connected to                     \n",
      "====================================================================================================\n",
      "input_16 (InputLayer)            (None, 1)             0                                            \n",
      "____________________________________________________________________________________________________\n",
      "embedding_8 (Embedding)          (None, 1, 2)          1074        input_16[0][0]                   \n",
      "____________________________________________________________________________________________________\n",
      "input_15 (InputLayer)            (None, 40)            0                                            \n",
      "____________________________________________________________________________________________________\n",
      "flatten_8 (Flatten)              (None, 2)             0           embedding_8[0][0]                \n",
      "____________________________________________________________________________________________________\n",
      "concatenate_8 (Concatenate)      (None, 42)            0           input_15[0][0]                   \n",
      "                                                                   flatten_8[0][0]                  \n",
      "____________________________________________________________________________________________________\n",
      "dense_20 (Dense)                 (None, 100)           4300        concatenate_8[0][0]              \n",
      "____________________________________________________________________________________________________\n",
      "dense_21 (Dense)                 (None, 2)             202         dense_20[0][0]                   \n",
      "====================================================================================================\n",
      "Total params: 5,576\n",
      "Trainable params: 5,576\n",
      "Non-trainable params: 0\n",
      "____________________________________________________________________________________________________\n"
     ]
    }
   ],
   "source": [
    "nn_model = create_emb_hidden_model([100], n_features=40)\n",
    "nn_model.compile(Adam(0.005), crps_cost_function)\n",
    "nn_model.summary()"
   ]
  },
  {
   "cell_type": "code",
   "execution_count": null,
   "metadata": {
    "collapsed": true
   },
   "outputs": [],
   "source": [
    "#nn_model.fit([aux_train_set.features, aux_train_set.cont_ids], aux_train_set.targets, \n",
    "#             epochs=50, batch_size=4096);"
   ]
  },
  {
   "cell_type": "code",
   "execution_count": null,
   "metadata": {
    "collapsed": true
   },
   "outputs": [],
   "source": [
    "#nn_model.save(DATA_DIR + 'saved_models/nn_model.h5')"
   ]
  },
  {
   "cell_type": "code",
   "execution_count": 158,
   "metadata": {
    "collapsed": true
   },
   "outputs": [],
   "source": [
    "nn_model = keras.models.load_model(DATA_DIR + 'saved_models/nn_model.h5')"
   ]
  },
  {
   "cell_type": "code",
   "execution_count": 159,
   "metadata": {},
   "outputs": [
    {
     "data": {
      "text/plain": [
       "0.8334972869413183"
      ]
     },
     "execution_count": 159,
     "metadata": {},
     "output_type": "execute_result"
    }
   ],
   "source": [
    "nn_model.evaluate([aux_test_set.features, aux_test_set.cont_ids], \n",
    "                       aux_test_set.targets, 4096, 0)"
   ]
  },
  {
   "cell_type": "markdown",
   "metadata": {},
   "source": [
    "The added non-linearity gives us a another few percent improvement compared to the local boosting algorithm. Why not try increasing the number of hidden layers and nodes?"
   ]
  },
  {
   "cell_type": "markdown",
   "metadata": {},
   "source": [
    "### A more complex neural network"
   ]
  },
  {
   "cell_type": "code",
   "execution_count": 160,
   "metadata": {},
   "outputs": [
    {
     "name": "stdout",
     "output_type": "stream",
     "text": [
      "____________________________________________________________________________________________________\n",
      "Layer (type)                     Output Shape          Param #     Connected to                     \n",
      "====================================================================================================\n",
      "input_18 (InputLayer)            (None, 1)             0                                            \n",
      "____________________________________________________________________________________________________\n",
      "embedding_9 (Embedding)          (None, 1, 2)          1074        input_18[0][0]                   \n",
      "____________________________________________________________________________________________________\n",
      "input_17 (InputLayer)            (None, 40)            0                                            \n",
      "____________________________________________________________________________________________________\n",
      "flatten_9 (Flatten)              (None, 2)             0           embedding_9[0][0]                \n",
      "____________________________________________________________________________________________________\n",
      "concatenate_9 (Concatenate)      (None, 42)            0           input_17[0][0]                   \n",
      "                                                                   flatten_9[0][0]                  \n",
      "____________________________________________________________________________________________________\n",
      "dense_22 (Dense)                 (None, 512)           22016       concatenate_9[0][0]              \n",
      "____________________________________________________________________________________________________\n",
      "dense_23 (Dense)                 (None, 512)           262656      dense_22[0][0]                   \n",
      "____________________________________________________________________________________________________\n",
      "dense_24 (Dense)                 (None, 2)             1026        dense_23[0][0]                   \n",
      "====================================================================================================\n",
      "Total params: 286,772\n",
      "Trainable params: 286,772\n",
      "Non-trainable params: 0\n",
      "____________________________________________________________________________________________________\n"
     ]
    }
   ],
   "source": [
    "better_nn = create_emb_hidden_model([512, 512], 40)\n",
    "better_nn.compile(Adam(0.01), crps_cost_function)\n",
    "better_nn.summary()"
   ]
  },
  {
   "cell_type": "code",
   "execution_count": null,
   "metadata": {
    "collapsed": true
   },
   "outputs": [],
   "source": [
    "#better_nn.fit([aux_train_set.features, aux_train_set.cont_ids], aux_train_set.targets, \n",
    "#             epochs=50, batch_size=1024);"
   ]
  },
  {
   "cell_type": "code",
   "execution_count": null,
   "metadata": {
    "collapsed": true
   },
   "outputs": [],
   "source": [
    "#better_nn.save(DATA_DIR + 'saved_models/better_nn.h5')"
   ]
  },
  {
   "cell_type": "code",
   "execution_count": 161,
   "metadata": {
    "collapsed": true
   },
   "outputs": [],
   "source": [
    "better_nn = keras.models.load_model(DATA_DIR + 'saved_models/better_nn.h5')"
   ]
  },
  {
   "cell_type": "code",
   "execution_count": 162,
   "metadata": {},
   "outputs": [
    {
     "data": {
      "text/plain": [
       "0.65239755572675184"
      ]
     },
     "execution_count": 162,
     "metadata": {},
     "output_type": "execute_result"
    }
   ],
   "source": [
    "# Training score\n",
    "better_nn.evaluate([aux_train_set.features, aux_train_set.cont_ids], \n",
    "                       aux_train_set.targets, 4096, 0)"
   ]
  },
  {
   "cell_type": "code",
   "execution_count": 163,
   "metadata": {},
   "outputs": [
    {
     "data": {
      "text/plain": [
       "0.91378149655209406"
      ]
     },
     "execution_count": 163,
     "metadata": {},
     "output_type": "execute_result"
    }
   ],
   "source": [
    "# Test score\n",
    "better_nn.evaluate([aux_test_set.features, aux_test_set.cont_ids], \n",
    "                       aux_test_set.targets, 4096, 0)"
   ]
  },
  {
   "cell_type": "markdown",
   "metadata": {},
   "source": [
    "### Hmmm, weird..."
   ]
  },
  {
   "cell_type": "markdown",
   "metadata": {},
   "source": [
    "This is what is called overfitting and is a serious problem in machine learning. The model basically memorizes the training examples and does not generalize to unseen samples.\n",
    "\n",
    "![overfitting](https://i.stack.imgur.com/t0zit.png)\n",
    "\n",
    "The model complexity is limited by the amount of training data!"
   ]
  },
  {
   "cell_type": "markdown",
   "metadata": {},
   "source": [
    "## A longer training period\n",
    "\n",
    "Finally, let's see if our score gets better if we train with a longer training period. "
   ]
  },
  {
   "cell_type": "code",
   "execution_count": 164,
   "metadata": {
    "collapsed": true
   },
   "outputs": [],
   "source": [
    "long_train_dates = ['2008-01-01', '2016-01-01']\n",
    "#long_train_set, long_test_set = get_train_test_sets(DATA_DIR, long_train_dates, test_dates,\n",
    "#                                                  aux_dict=aux_dict)\n",
    "with open(DATA_DIR + 'pickled/aux_08-15_16.pkl', 'rb') as f:\n",
    "    long_train_set, long_test_set = pickle.load(f)"
   ]
  },
  {
   "cell_type": "code",
   "execution_count": 165,
   "metadata": {},
   "outputs": [
    {
     "data": {
      "text/plain": [
       "(1456977, 40)"
      ]
     },
     "execution_count": 165,
     "metadata": {},
     "output_type": "execute_result"
    }
   ],
   "source": [
    "long_train_set.features.shape"
   ]
  },
  {
   "cell_type": "code",
   "execution_count": 166,
   "metadata": {},
   "outputs": [
    {
     "name": "stdout",
     "output_type": "stream",
     "text": [
      "____________________________________________________________________________________________________\n",
      "Layer (type)                     Output Shape          Param #     Connected to                     \n",
      "====================================================================================================\n",
      "input_20 (InputLayer)            (None, 1)             0                                            \n",
      "____________________________________________________________________________________________________\n",
      "embedding_10 (Embedding)         (None, 1, 2)          1074        input_20[0][0]                   \n",
      "____________________________________________________________________________________________________\n",
      "input_19 (InputLayer)            (None, 40)            0                                            \n",
      "____________________________________________________________________________________________________\n",
      "flatten_10 (Flatten)             (None, 2)             0           embedding_10[0][0]               \n",
      "____________________________________________________________________________________________________\n",
      "concatenate_10 (Concatenate)     (None, 42)            0           input_19[0][0]                   \n",
      "                                                                   flatten_10[0][0]                 \n",
      "____________________________________________________________________________________________________\n",
      "dense_25 (Dense)                 (None, 500)           21500       concatenate_10[0][0]             \n",
      "____________________________________________________________________________________________________\n",
      "dense_26 (Dense)                 (None, 2)             1002        dense_25[0][0]                   \n",
      "====================================================================================================\n",
      "Total params: 23,576\n",
      "Trainable params: 23,576\n",
      "Non-trainable params: 0\n",
      "____________________________________________________________________________________________________\n"
     ]
    }
   ],
   "source": [
    "nn_model = create_emb_hidden_model([500], n_features=40)\n",
    "nn_model.compile(Adam(0.002), crps_cost_function)\n",
    "nn_model.summary()"
   ]
  },
  {
   "cell_type": "code",
   "execution_count": null,
   "metadata": {
    "collapsed": true
   },
   "outputs": [],
   "source": [
    "#nn_model.fit([long_train_set.features, long_train_set.cont_ids], long_train_set.targets, \n",
    "#             epochs=100, batch_size=4096, validation_split=0.2,\n",
    "#             callbacks=[EarlyStopping(patience=2)]);"
   ]
  },
  {
   "cell_type": "code",
   "execution_count": null,
   "metadata": {
    "collapsed": true
   },
   "outputs": [],
   "source": [
    "#nn_model.save(DATA_DIR + 'saved_models/nn_model_long.h5')"
   ]
  },
  {
   "cell_type": "code",
   "execution_count": 167,
   "metadata": {
    "collapsed": true
   },
   "outputs": [],
   "source": [
    "nn_model = keras.models.load_model(DATA_DIR + 'saved_models/nn_model_long.h5')"
   ]
  },
  {
   "cell_type": "code",
   "execution_count": 168,
   "metadata": {},
   "outputs": [
    {
     "data": {
      "text/plain": [
       "0.79868184177597268"
      ]
     },
     "execution_count": 168,
     "metadata": {},
     "output_type": "execute_result"
    }
   ],
   "source": [
    "nn_model.evaluate([long_test_set.features, long_test_set.cont_ids], \n",
    "                       long_test_set.targets, 4096, 0)"
   ]
  },
  {
   "cell_type": "markdown",
   "metadata": {},
   "source": [
    "So we got another 4% improvement with more training data. We do not yet have benchmark scores for the traditional post-processing techniques for the long training period."
   ]
  },
  {
   "cell_type": "markdown",
   "metadata": {
    "heading_collapsed": true
   },
   "source": [
    "## Conclusion\n",
    "\n",
    "Neural network provide a flexible and fast way of post-processing probabilistic NWP forecasts and are even a little better than traditional techniques courtesy of the added non-linearity. \n",
    "\n",
    "This is however an academic dataset with a nicely behaved variable, temperature. Application-driven post-processing poses some extra challenges:\n",
    "- Non-gaussian variables like temperature and wind\n",
    "- Spatial structures"
   ]
  },
  {
   "cell_type": "code",
   "execution_count": null,
   "metadata": {
    "collapsed": true,
    "hidden": true
   },
   "outputs": [],
   "source": []
  }
 ],
 "metadata": {
  "kernelspec": {
   "display_name": "Python 3",
   "language": "python",
   "name": "python3"
  },
  "language_info": {
   "codemirror_mode": {
    "name": "ipython",
    "version": 3
   },
   "file_extension": ".py",
   "mimetype": "text/x-python",
   "name": "python",
   "nbconvert_exporter": "python",
   "pygments_lexer": "ipython3",
   "version": "3.6.2"
  },
  "toc": {
   "nav_menu": {},
   "number_sections": true,
   "sideBar": true,
   "skip_h1_title": true,
   "toc_cell": true,
   "toc_position": {},
   "toc_section_display": "block",
   "toc_window_display": false
  }
 },
 "nbformat": 4,
 "nbformat_minor": 2
}
